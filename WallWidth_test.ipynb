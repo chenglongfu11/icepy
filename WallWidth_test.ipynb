{
 "cells": [
  {
   "cell_type": "code",
   "execution_count": 1,
   "metadata": {},
   "outputs": [],
   "source": [
    "from util import *"
   ]
  },
  {
   "cell_type": "code",
   "execution_count": 1,
   "metadata": {},
   "outputs": [],
   "source": [
    "from wallwidth import WallWidth\n",
    "wallWidth = WallWidth()"
   ]
  },
  {
   "cell_type": "code",
   "execution_count": 2,
   "metadata": {},
   "outputs": [],
   "source": [
    "from basic import *"
   ]
  },
  {
   "cell_type": "code",
   "execution_count": 2,
   "metadata": {},
   "outputs": [],
   "source": [
    "from config import ICE"
   ]
  },
  {
   "cell_type": "code",
   "execution_count": 3,
   "metadata": {},
   "outputs": [],
   "source": [
    "from modeleditor import IDM"
   ]
  },
  {
   "cell_type": "code",
   "execution_count": 4,
   "metadata": {},
   "outputs": [
    {
     "data": {
      "text/plain": [
       "'D:\\\\idaice\\\\bin\\\\'"
      ]
     },
     "execution_count": 4,
     "metadata": {},
     "output_type": "execute_result"
    }
   ],
   "source": [
    "ICE.setice(\"D:\\\\idaice\\\\bin\\\\\")\n",
    "ICE.ice_path"
   ]
  },
  {
   "cell_type": "code",
   "execution_count": 5,
   "metadata": {},
   "outputs": [],
   "source": [
    "folder = 'D:\\\\ide_mine\\\\changing\\\\'\n",
    "base_model = 'ut1_1'"
   ]
  },
  {
   "cell_type": "code",
   "execution_count": 6,
   "metadata": {},
   "outputs": [],
   "source": [
    "idm = IDM(folder, base_model)\n",
    "# Building object\n",
    "building = idm.openfile(base_model)"
   ]
  },
  {
   "cell_type": "code",
   "execution_count": 7,
   "metadata": {},
   "outputs": [],
   "source": [
    "z1_geo = wallWidth.zone_geo_obj(building)"
   ]
  },
  {
   "cell_type": "code",
   "execution_count": 8,
   "metadata": {},
   "outputs": [
    {
     "data": {
      "text/plain": [
       "93"
      ]
     },
     "execution_count": 8,
     "metadata": {},
     "output_type": "execute_result"
    }
   ],
   "source": [
    "z1_geo"
   ]
  },
  {
   "cell_type": "code",
   "execution_count": 9,
   "metadata": {},
   "outputs": [
    {
     "name": "stdout",
     "output_type": "stream",
     "text": [
      "[[9.406, 63.82]]\n",
      "[[9.406, 63.82], [11.867, 60.667]]\n",
      "[[9.406, 63.82], [11.867, 60.667], [17.78, 65.282]]\n",
      "[[9.406, 63.82], [11.867, 60.667], [17.78, 65.282], [24.936, 56.114]]\n",
      "[[9.406, 63.82], [11.867, 60.667], [17.78, 65.282], [24.936, 56.114], [16.849, 49.79]]\n",
      "[[9.406, 63.82], [11.867, 60.667], [17.78, 65.282], [24.936, 56.114], [16.849, 49.79], [14.698, 31.848]]\n",
      "[[9.406, 63.82], [11.867, 60.667], [17.78, 65.282], [24.936, 56.114], [16.849, 49.79], [14.698, 31.848], [27.242, 15.853]]\n",
      "[[9.406, 63.82], [11.867, 60.667], [17.78, 65.282], [24.936, 56.114], [16.849, 49.79], [14.698, 31.848], [27.242, 15.853], [32.365, 19.924]]\n",
      "[[9.406, 63.82], [11.867, 60.667], [17.78, 65.282], [24.936, 56.114], [16.849, 49.79], [14.698, 31.848], [27.242, 15.853], [32.365, 19.924], [37.732, 13.05]]\n",
      "[[9.406, 63.82], [11.867, 60.667], [17.78, 65.282], [24.936, 56.114], [16.849, 49.79], [14.698, 31.848], [27.242, 15.853], [32.365, 19.924], [37.732, 13.05], [32.594, 9.04]]\n",
      "[[9.406, 63.82], [11.867, 60.667], [17.78, 65.282], [24.936, 56.114], [16.849, 49.79], [14.698, 31.848], [27.242, 15.853], [32.365, 19.924], [37.732, 13.05], [32.594, 9.04], [35.07, 5.891]]\n",
      "[[9.406, 63.82], [11.867, 60.667], [17.78, 65.282], [24.936, 56.114], [16.849, 49.79], [14.698, 31.848], [27.242, 15.853], [32.365, 19.924], [37.732, 13.05], [32.594, 9.04], [35.07, 5.891], [30.212, 1.599]]\n",
      "[[9.406, 63.82], [11.867, 60.667], [17.78, 65.282], [24.936, 56.114], [16.849, 49.79], [14.698, 31.848], [27.242, 15.853], [32.365, 19.924], [37.732, 13.05], [32.594, 9.04], [35.07, 5.891], [30.212, 1.599], [28.163, 0.0]]\n",
      "[[9.406, 63.82], [11.867, 60.667], [17.78, 65.282], [24.936, 56.114], [16.849, 49.79], [14.698, 31.848], [27.242, 15.853], [32.365, 19.924], [37.732, 13.05], [32.594, 9.04], [35.07, 5.891], [30.212, 1.599], [28.163, 0.0], [9.086, 24.449]]\n",
      "[[9.406, 63.82], [11.867, 60.667], [17.78, 65.282], [24.936, 56.114], [16.849, 49.79], [14.698, 31.848], [27.242, 15.853], [32.365, 19.924], [37.732, 13.05], [32.594, 9.04], [35.07, 5.891], [30.212, 1.599], [28.163, 0.0], [9.086, 24.449], [5.974, 21.934]]\n",
      "[[9.406, 63.82], [11.867, 60.667], [17.78, 65.282], [24.936, 56.114], [16.849, 49.79], [14.698, 31.848], [27.242, 15.853], [32.365, 19.924], [37.732, 13.05], [32.594, 9.04], [35.07, 5.891], [30.212, 1.599], [28.163, 0.0], [9.086, 24.449], [5.974, 21.934], [0.0, 29.811]]\n",
      "[[9.406, 63.82], [11.867, 60.667], [17.78, 65.282], [24.936, 56.114], [16.849, 49.79], [14.698, 31.848], [27.242, 15.853], [32.365, 19.924], [37.732, 13.05], [32.594, 9.04], [35.07, 5.891], [30.212, 1.599], [28.163, 0.0], [9.086, 24.449], [5.974, 21.934], [0.0, 29.811], [6.731, 35.09]]\n",
      "[[9.406, 63.82], [11.867, 60.667], [17.78, 65.282], [24.936, 56.114], [16.849, 49.79], [14.698, 31.848], [27.242, 15.853], [32.365, 19.924], [37.732, 13.05], [32.594, 9.04], [35.07, 5.891], [30.212, 1.599], [28.163, 0.0], [9.086, 24.449], [5.974, 21.934], [0.0, 29.811], [6.731, 35.09], [8.4, 48.889]]\n",
      "[[9.406, 63.82], [11.867, 60.667], [17.78, 65.282], [24.936, 56.114], [16.849, 49.79], [14.698, 31.848], [27.242, 15.853], [32.365, 19.924], [37.732, 13.05], [32.594, 9.04], [35.07, 5.891], [30.212, 1.599], [28.163, 0.0], [9.086, 24.449], [5.974, 21.934], [0.0, 29.811], [6.731, 35.09], [8.4, 48.889], [1.539, 57.679]]\n"
     ]
    },
    {
     "ename": "NameError",
     "evalue": "name 'wall_coordiante' is not defined",
     "output_type": "error",
     "traceback": [
      "\u001b[1;31m---------------------------------------------------------------------------\u001b[0m",
      "\u001b[1;31mNameError\u001b[0m                                 Traceback (most recent call last)",
      "\u001b[1;32m<ipython-input-9-07534007d2c6>\u001b[0m in \u001b[0;36m<module>\u001b[1;34m\u001b[0m\n\u001b[0;32m      1\u001b[0m \u001b[0mwall_coordinate\u001b[0m \u001b[1;33m=\u001b[0m \u001b[0mwallWidth\u001b[0m\u001b[1;33m.\u001b[0m\u001b[0mget_corners\u001b[0m\u001b[1;33m(\u001b[0m\u001b[0mz1_geo\u001b[0m\u001b[1;33m)\u001b[0m\u001b[1;33m\u001b[0m\u001b[1;33m\u001b[0m\u001b[0m\n\u001b[1;32m----> 2\u001b[1;33m \u001b[0mwall_coordiante\u001b[0m\u001b[1;33m\u001b[0m\u001b[1;33m\u001b[0m\u001b[0m\n\u001b[0m",
      "\u001b[1;31mNameError\u001b[0m: name 'wall_coordiante' is not defined"
     ]
    }
   ],
   "source": [
    "wall_coordinate = wallWidth.get_corners(z1_geo)\n",
    "wall_coordinate"
   ]
  },
  {
   "cell_type": "code",
   "execution_count": 10,
   "metadata": {},
   "outputs": [
    {
     "data": {
      "text/plain": [
       "[[9.406, 63.82],\n",
       " [11.867, 60.667],\n",
       " [17.78, 65.282],\n",
       " [24.936, 56.114],\n",
       " [16.849, 49.79],\n",
       " [14.698, 31.848],\n",
       " [27.242, 15.853],\n",
       " [32.365, 19.924],\n",
       " [37.732, 13.05],\n",
       " [32.594, 9.04],\n",
       " [35.07, 5.891],\n",
       " [30.212, 1.599],\n",
       " [28.163, 0.0],\n",
       " [9.086, 24.449],\n",
       " [5.974, 21.934],\n",
       " [0.0, 29.811],\n",
       " [6.731, 35.09],\n",
       " [8.4, 48.889],\n",
       " [1.539, 57.679]]"
      ]
     },
     "execution_count": 10,
     "metadata": {},
     "output_type": "execute_result"
    }
   ],
   "source": [
    "wall_coordinate"
   ]
  },
  {
   "cell_type": "code",
   "execution_count": 11,
   "metadata": {},
   "outputs": [
    {
     "name": "stdout",
     "output_type": "stream",
     "text": [
      "[4.0, 7.501, 11.63, 10.266, 18.07, 20.327, 6.544, 8.721, 6.518, 4.006, 6.482, 2.599, 31.011, 4.001, 9.886, 8.554, 13.9, 11.151, 9.98]\n"
     ]
    },
    {
     "data": {
      "text/plain": [
       "[4.0,\n",
       " 7.501,\n",
       " 11.63,\n",
       " 10.266,\n",
       " 18.07,\n",
       " 20.327,\n",
       " 6.544,\n",
       " 8.721,\n",
       " 6.518,\n",
       " 4.006,\n",
       " 6.482,\n",
       " 2.599,\n",
       " 31.011,\n",
       " 4.001,\n",
       " 9.886,\n",
       " 8.554,\n",
       " 13.9,\n",
       " 11.151,\n",
       " 9.98]"
      ]
     },
     "execution_count": 11,
     "metadata": {},
     "output_type": "execute_result"
    }
   ],
   "source": [
    "width_ls = wallWidth.parse_wallwidth(wall_coordinate)\n",
    "width_ls"
   ]
  },
  {
   "cell_type": "code",
   "execution_count": 8,
   "metadata": {},
   "outputs": [
    {
     "data": {
      "text/plain": [
       "defaultdict(int,\n",
       "            {2: 'Kalmar',\n",
       "             3: 'Kalmar-1968',\n",
       "             4: 'Floor coating',\n",
       "             5: 'L/W concrete',\n",
       "             6: 'Concrete',\n",
       "             7: 'Concrete floor 150mm',\n",
       "             8: 'Render',\n",
       "             9: 'Rendered l/w concrete wall 250',\n",
       "             10: 'Gypsum',\n",
       "             11: 'Air in 30 mm vert. air gap',\n",
       "             12: 'Light insulation',\n",
       "             13: 'Interior wall with insulation',\n",
       "             14: 'Concrete floor 250mm',\n",
       "             15: 'Concrete joist roof',\n",
       "             16: 'Rendered concrete wall 200',\n",
       "             17: 'Entrance door',\n",
       "             18: 'Wood',\n",
       "             19: 'Aluminium',\n",
       "             20: 'Inner door',\n",
       "             21: 'Ground without insulation',\n",
       "             22: '3 pane glazing, clear, 4-12-4-12-4',\n",
       "             23: '4 mm clear',\n",
       "             24: 'Clear_glass-EN14501',\n",
       "             25: 'Energy_glass-EN14501',\n",
       "             26: 'Argon - EN673 (WIN7)',\n",
       "             27: 'Air - EN673 (WIN7)',\n",
       "             28: 'Solar_glass-EN14501',\n",
       "             29: 'Glazing-A_EN14501',\n",
       "             30: 'Glazing-B_EN14501',\n",
       "             31: 'Glazing-C_EN14501',\n",
       "             32: 'Glazing-D_EN14501',\n",
       "             33: 'Single Clear (WIN7)',\n",
       "             34: 'CLEAR_3.DAT (WIN7)',\n",
       "             35: 'Double Clear Air (WIN7)',\n",
       "             36: 'CLEAR_6.DAT (WIN7)',\n",
       "             37: 'Air (WIN7)',\n",
       "             38: 'Double high solar gain low-e (WIN7)',\n",
       "             39: 'CLEAR5.LOF (WIN7)',\n",
       "             40: 'LOW-E_5.LOF (WIN7)',\n",
       "             41: 'Double low-e (air) - deflected (WIN7)',\n",
       "             42: 'LoE270-6.CIG (WIN7)',\n",
       "             43: 'STD-ZONE',\n",
       "             44: 'LOCATION',\n",
       "             45: 'WIND-PROFILE',\n",
       "             46: 'CLIMATE-DEF',\n",
       "             47: 'Lighting, facility',\n",
       "             48: 'Lighting, tenant',\n",
       "             49: 'Equipment, facility',\n",
       "             50: 'Equipment, tenant',\n",
       "             51: 'Electric cooling',\n",
       "             52: 'Fuel cooling',\n",
       "             53: 'District cooling',\n",
       "             54: 'HVAC aux',\n",
       "             55: 'Electric heating',\n",
       "             56: 'Fuel heating',\n",
       "             57: 'District heating',\n",
       "             58: 'Heating, tenant',\n",
       "             59: 'Domestic hot water',\n",
       "             60: 'PV production',\n",
       "             61: 'Wind turbine production',\n",
       "             62: 'CHP electricity',\n",
       "             63: 'SITE',\n",
       "             64: 'SIMULATION_DATA',\n",
       "             65: 'SIMULATIONS',\n",
       "             66: 'SYSPARS',\n",
       "             67: 'STORED-LOG',\n",
       "             68: 'TOTAL-FLOOR-AREA',\n",
       "             69: 'FLPLAN-PROTECT',\n",
       "             70: 'THERMAL-BRIDGES',\n",
       "             71: 'INFILTRATION',\n",
       "             72: 'OTHER-LOSSES',\n",
       "             73: 'DEFAULTS',\n",
       "             74: 'CLIMATE',\n",
       "             75: 'AHU',\n",
       "             76: 'PLANT',\n",
       "             77: 'CLIMATE-FILE',\n",
       "             78: 'GROUND',\n",
       "             79: 'PROJDATA',\n",
       "             80: 'HOLIDAYS',\n",
       "             81: 'CONTROLLER',\n",
       "             82: 'OUTPUT',\n",
       "             83: 'ARCDATA',\n",
       "             84: 'Floor_36',\n",
       "             85: 'Zone 1',\n",
       "             86: 'ParmRun_1',\n",
       "             87: 'THREE-D-MODEL',\n",
       "             88: 'PROJECT_REPORT',\n",
       "             89: 'PLANT_POWER',\n",
       "             90: 'ENERGY-REPORT',\n",
       "             91: 'SYSTEMS-ENERGY-REPORT',\n",
       "             92: 'INDATA-REPORT'})"
      ]
     },
     "execution_count": 8,
     "metadata": {},
     "output_type": "execute_result"
    }
   ],
   "source": [
    "childdict = showChildrenDict(building)\n",
    "childdict"
   ]
  },
  {
   "cell_type": "code",
   "execution_count": 42,
   "metadata": {},
   "outputs": [
    {
     "data": {
      "text/plain": [
       "True"
      ]
     },
     "execution_count": 42,
     "metadata": {},
     "output_type": "execute_result"
    }
   ],
   "source": [
    "'Zone 1' in str(childdict)"
   ]
  },
  {
   "cell_type": "code",
   "execution_count": 9,
   "metadata": {},
   "outputs": [],
   "source": [
    "zone1 = ida_get_named_child(building, 'Zone 1')"
   ]
  },
  {
   "cell_type": "code",
   "execution_count": 10,
   "metadata": {},
   "outputs": [
    {
     "data": {
      "text/plain": [
       "defaultdict(int,\n",
       "            {93: 'LOCAL_SETPOINTS',\n",
       "             94: 'MODEL_TYPE',\n",
       "             95: 'INFO',\n",
       "             96: 'GROUP',\n",
       "             97: 'MULTIPLICITY',\n",
       "             98: 'IN_USE',\n",
       "             99: 'STORED-LOG',\n",
       "             100: 'THERMAL-BRIDGES',\n",
       "             101: 'THERMAL_BRIDGE_COEFF',\n",
       "             102: 'GEOMETRY',\n",
       "             103: 'CENTRAL-AHU',\n",
       "             104: 'AIR',\n",
       "             105: 'CONTROLLER',\n",
       "             106: 'SETPOINTS',\n",
       "             107: 'DHW',\n",
       "             108: 'CALC-DAYLIGHT',\n",
       "             109: 'FLOOR',\n",
       "             110: 'CEILING',\n",
       "             111: 'WALL_1',\n",
       "             112: 'WALL_2',\n",
       "             113: 'WALL_3',\n",
       "             114: 'WALL_4',\n",
       "             115: 'WALL_5',\n",
       "             116: 'WALL_6',\n",
       "             117: 'WALL_7',\n",
       "             118: 'WALL_8',\n",
       "             119: 'WALL_9',\n",
       "             120: 'WALL_10',\n",
       "             121: 'WALL_11',\n",
       "             122: 'WALL_12',\n",
       "             123: 'WALL_13',\n",
       "             124: 'WALL_14',\n",
       "             125: 'WALL_15',\n",
       "             126: 'WALL_16',\n",
       "             127: 'WALL_17',\n",
       "             128: 'WALL_18',\n",
       "             129: 'WALL_19',\n",
       "             130: 'Occupant 1',\n",
       "             131: 'Equipment 1',\n",
       "             132: 'Light',\n",
       "             133: 'Furniture',\n",
       "             134: 'Ideal cooler',\n",
       "             135: 'Ideal heater',\n",
       "             136: 'TEMPERATURES',\n",
       "             137: 'ZONE-ENERGY-REPORT',\n",
       "             138: 'ZONE-ENERGY',\n",
       "             139: 'ZONE-SUMMARY'})"
      ]
     },
     "execution_count": 10,
     "metadata": {},
     "output_type": "execute_result"
    }
   ],
   "source": [
    "z1_childdict = showChildrenDict(zone1)\n",
    "z1_childdict"
   ]
  },
  {
   "cell_type": "code",
   "execution_count": 11,
   "metadata": {},
   "outputs": [],
   "source": [
    "import time"
   ]
  },
  {
   "cell_type": "code",
   "execution_count": 12,
   "metadata": {},
   "outputs": [
    {
     "data": {
      "text/plain": [
       "defaultdict(int,\n",
       "            {140: 'PROTECTED_SHAPE',\n",
       "             141: 'SHAPE',\n",
       "             142: 'ORIGIN',\n",
       "             143: 'NCORN',\n",
       "             144: 'CORNERS',\n",
       "             145: 'CONTOURS',\n",
       "             146: 'CEILING-HEIGHT',\n",
       "             147: 'HEIGHT-TO-ROOF',\n",
       "             148: 'ORIENTATION',\n",
       "             149: 'NET_FLOOR_AREA',\n",
       "             150: 'FLOOR_HEIGHT_FROM_GROUND',\n",
       "             151: 'ZONE-VOLUME',\n",
       "             152: 'EXTSURF-AREA',\n",
       "             153: 'FACADE-AREA'})"
      ]
     },
     "execution_count": 12,
     "metadata": {},
     "output_type": "execute_result"
    }
   ],
   "source": [
    "z1_geo = ida_get_named_child(zone1, 'GEOMETRY')\n",
    "time.sleep(3)\n",
    "z1_geo_childdict = showChildrenDict(z1_geo)\n",
    "z1_geo_childdict"
   ]
  },
  {
   "cell_type": "code",
   "execution_count": 34,
   "metadata": {},
   "outputs": [
    {
     "ename": "TypeError",
     "evalue": "must be real number, not list",
     "output_type": "error",
     "traceback": [
      "\u001b[1;31m---------------------------------------------------------------------------\u001b[0m",
      "\u001b[1;31mTypeError\u001b[0m                                 Traceback (most recent call last)",
      "\u001b[1;32m<ipython-input-34-f00457bb9aa9>\u001b[0m in \u001b[0;36m<module>\u001b[1;34m\u001b[0m\n\u001b[1;32m----> 1\u001b[1;33m \u001b[0mcorner\u001b[0m \u001b[1;33m=\u001b[0m \u001b[0mshowSingleChild\u001b[0m\u001b[1;33m(\u001b[0m\u001b[0mz1_geo\u001b[0m\u001b[1;33m,\u001b[0m \u001b[1;34m'CORNERS'\u001b[0m\u001b[1;33m)\u001b[0m\u001b[1;33m\u001b[0m\u001b[1;33m\u001b[0m\u001b[0m\n\u001b[0m",
      "\u001b[1;32mD:\\icepy\\basic.py\u001b[0m in \u001b[0;36mshowSingleChild\u001b[1;34m(parent, child_name)\u001b[0m\n\u001b[0;32m    128\u001b[0m     \u001b[0melement\u001b[0m \u001b[1;33m=\u001b[0m \u001b[0mida_get_named_child\u001b[0m\u001b[1;33m(\u001b[0m\u001b[0mparent\u001b[0m\u001b[1;33m,\u001b[0m \u001b[0mchild_name\u001b[0m\u001b[1;33m)\u001b[0m\u001b[1;33m\u001b[0m\u001b[1;33m\u001b[0m\u001b[0m\n\u001b[0;32m    129\u001b[0m     \u001b[0mprint\u001b[0m\u001b[1;33m(\u001b[0m\u001b[0melement\u001b[0m\u001b[1;33m)\u001b[0m\u001b[1;33m\u001b[0m\u001b[1;33m\u001b[0m\u001b[0m\n\u001b[1;32m--> 130\u001b[1;33m     \u001b[1;32mtry\u001b[0m\u001b[1;33m:\u001b[0m\u001b[1;33m\u001b[0m\u001b[1;33m\u001b[0m\u001b[0m\n\u001b[0m\u001b[0;32m    131\u001b[0m         \u001b[0melement_val\u001b[0m \u001b[1;33m=\u001b[0m \u001b[0mida_get_value\u001b[0m\u001b[1;33m(\u001b[0m\u001b[0melement\u001b[0m\u001b[1;33m)\u001b[0m\u001b[1;33m\u001b[0m\u001b[1;33m\u001b[0m\u001b[0m\n\u001b[0;32m    132\u001b[0m         \u001b[1;31m# print(\"The current %s value is %s, and the type is %s\" % (child_name, tuple(element_val), type(element_val)))\u001b[0m\u001b[1;33m\u001b[0m\u001b[1;33m\u001b[0m\u001b[1;33m\u001b[0m\u001b[0m\n",
      "\u001b[1;31mTypeError\u001b[0m: must be real number, not list"
     ]
    }
   ],
   "source": [
    "corner = showSingleChild(z1_geo, 'CORNERS')"
   ]
  },
  {
   "cell_type": "code",
   "execution_count": 30,
   "metadata": {},
   "outputs": [],
   "source": [
    "corner = ida_get_named_child(z1_geo, 'CORNERS')"
   ]
  },
  {
   "cell_type": "code",
   "execution_count": 31,
   "metadata": {},
   "outputs": [
    {
     "data": {
      "text/plain": [
       "144"
      ]
     },
     "execution_count": 31,
     "metadata": {},
     "output_type": "execute_result"
    }
   ],
   "source": [
    "corner"
   ]
  },
  {
   "cell_type": "code",
   "execution_count": 32,
   "metadata": {},
   "outputs": [
    {
     "data": {
      "text/plain": [
       "[{'type': 'list',\n",
       "  'value': [{'type': 'float', 'value': 9.406},\n",
       "   {'type': 'float', 'value': 63.82}]},\n",
       " {'type': 'list',\n",
       "  'value': [{'type': 'float', 'value': 11.867},\n",
       "   {'type': 'float', 'value': 60.667}]},\n",
       " {'type': 'list',\n",
       "  'value': [{'type': 'float', 'value': 17.78},\n",
       "   {'type': 'float', 'value': 65.282}]},\n",
       " {'type': 'list',\n",
       "  'value': [{'type': 'float', 'value': 24.936},\n",
       "   {'type': 'float', 'value': 56.114}]},\n",
       " {'type': 'list',\n",
       "  'value': [{'type': 'float', 'value': 16.849},\n",
       "   {'type': 'float', 'value': 49.79}]},\n",
       " {'type': 'list',\n",
       "  'value': [{'type': 'float', 'value': 14.698},\n",
       "   {'type': 'float', 'value': 31.848}]},\n",
       " {'type': 'list',\n",
       "  'value': [{'type': 'float', 'value': 27.242},\n",
       "   {'type': 'float', 'value': 15.853}]},\n",
       " {'type': 'list',\n",
       "  'value': [{'type': 'float', 'value': 32.365},\n",
       "   {'type': 'float', 'value': 19.924}]},\n",
       " {'type': 'list',\n",
       "  'value': [{'type': 'float', 'value': 37.732},\n",
       "   {'type': 'float', 'value': 13.05}]},\n",
       " {'type': 'list',\n",
       "  'value': [{'type': 'float', 'value': 32.594},\n",
       "   {'type': 'float', 'value': 9.04}]},\n",
       " {'type': 'list',\n",
       "  'value': [{'type': 'float', 'value': 35.07},\n",
       "   {'type': 'float', 'value': 5.891}]},\n",
       " {'type': 'list',\n",
       "  'value': [{'type': 'float', 'value': 30.212},\n",
       "   {'type': 'float', 'value': 1.599}]},\n",
       " {'type': 'list',\n",
       "  'value': [{'type': 'float', 'value': 28.163},\n",
       "   {'type': 'float', 'value': 0.0}]},\n",
       " {'type': 'list',\n",
       "  'value': [{'type': 'float', 'value': 9.086},\n",
       "   {'type': 'float', 'value': 24.449}]},\n",
       " {'type': 'list',\n",
       "  'value': [{'type': 'float', 'value': 5.974},\n",
       "   {'type': 'float', 'value': 21.934}]},\n",
       " {'type': 'list',\n",
       "  'value': [{'type': 'float', 'value': 0.0},\n",
       "   {'type': 'float', 'value': 29.811}]},\n",
       " {'type': 'list',\n",
       "  'value': [{'type': 'float', 'value': 6.731},\n",
       "   {'type': 'float', 'value': 35.09}]},\n",
       " {'type': 'list',\n",
       "  'value': [{'type': 'float', 'value': 8.4},\n",
       "   {'type': 'float', 'value': 48.889}]},\n",
       " {'type': 'list',\n",
       "  'value': [{'type': 'float', 'value': 1.539},\n",
       "   {'type': 'float', 'value': 57.679}]}]"
      ]
     },
     "execution_count": 32,
     "metadata": {},
     "output_type": "execute_result"
    }
   ],
   "source": [
    "element_val = ida_get_value(corner)\n",
    "element_val"
   ]
  },
  {
   "cell_type": "code",
   "execution_count": 18,
   "metadata": {},
   "outputs": [
    {
     "name": "stdout",
     "output_type": "stream",
     "text": [
      "{'type': 'list', 'value': [{'type': 'float', 'value': 9.406}, {'type': 'float', 'value': 63.82}]}\n",
      "9.406\n",
      "63.82\n"
     ]
    }
   ],
   "source": [
    "print(element_val[0])\n",
    "print(element_val[0]['value'][0]['value'])   #x\n",
    "print(element_val[0]['value'][1]['value'])   #y"
   ]
  },
  {
   "cell_type": "code",
   "execution_count": 21,
   "metadata": {},
   "outputs": [
    {
     "name": "stdout",
     "output_type": "stream",
     "text": [
      "[[9.406, 63.82], [11.867, 60.667], [17.78, 65.282], [24.936, 56.114], [16.849, 49.79], [14.698, 31.848], [27.242, 15.853], [32.365, 19.924], [37.732, 13.05], [32.594, 9.04], [35.07, 5.891], [30.212, 1.599], [28.163, 0.0], [9.086, 24.449], [5.974, 21.934], [0.0, 29.811], [6.731, 35.09], [8.4, 48.889], [1.539, 57.679]]\n"
     ]
    }
   ],
   "source": [
    "wall_coor = []\n",
    "for item in element_val:\n",
    "    item_ls = []\n",
    "    item_ls.append(item['value'][0]['value'])    # x\n",
    "    item_ls.append(item['value'][1]['value'])    # y\n",
    "    wall_coor.append(item_ls)\n",
    "print(wall_coor)    "
   ]
  },
  {
   "cell_type": "code",
   "execution_count": 22,
   "metadata": {},
   "outputs": [],
   "source": [
    "import math"
   ]
  },
  {
   "cell_type": "code",
   "execution_count": 24,
   "metadata": {},
   "outputs": [
    {
     "data": {
      "text/plain": [
       "[4.0,\n",
       " 7.501,\n",
       " 11.63,\n",
       " 10.266,\n",
       " 18.07,\n",
       " 20.327,\n",
       " 6.544,\n",
       " 8.721,\n",
       " 6.518,\n",
       " 4.006,\n",
       " 6.482,\n",
       " 2.599,\n",
       " 31.011,\n",
       " 4.001,\n",
       " 9.886,\n",
       " 8.554,\n",
       " 13.9,\n",
       " 11.151,\n",
       " 9.98]"
      ]
     },
     "execution_count": 24,
     "metadata": {},
     "output_type": "execute_result"
    }
   ],
   "source": [
    "wall_width_ls = []\n",
    "\n",
    "for i in range(len(wall_coor)):\n",
    "    x0 = wall_coor[i][0]\n",
    "    y0 = wall_coor[i][1]\n",
    "    if i== len(wall_coor)-1:\n",
    "        x1 = wall_coor[0][0]\n",
    "        y1 = wall_coor[0][1]\n",
    "    else:    \n",
    "        x1 = wall_coor[i+1][0]\n",
    "        y1 = wall_coor[i+1][1]\n",
    "        \n",
    "    wall_width = math.sqrt((x0-x1) ** 2 + (y0-y1) ** 2)\n",
    "    wall_width_ls.append(round(wall_width, 3))           # 3 digits\n",
    "\n",
    "wall_width_ls    "
   ]
  },
  {
   "cell_type": "code",
   "execution_count": null,
   "metadata": {},
   "outputs": [],
   "source": [
    "wall_width_list = [4, 7.5, 11.63, 10.27, 18.07, 20.587, 6.543, 8.72, 6.5176, 4, 6.48, 2.59, 31, 4, 9.886, 8.554,\n",
    "                       13.899, 11.15, 9.98]"
   ]
  },
  {
   "cell_type": "code",
   "execution_count": null,
   "metadata": {},
   "outputs": [],
   "source": [
    "{{9.406 63.82} {11.867 60.667} {17.78 65.282} {24.936 56.114} {16.849 49.79} {14.698 31.848} {27.242 15.853} {32.365 19.924} {37.732 13.05} {32.594 9.04} {35.07 5.891} {30.212 1.599} {28.163 0.0} {9.086 24.449} {5.974 21.934} {0.0 29.811} {6.731 35.09} {8.4 48.889} {1.539 57.679}}"
   ]
  },
  {
   "cell_type": "code",
   "execution_count": 40,
   "metadata": {},
   "outputs": [
    {
     "ename": "TypeError",
     "evalue": "'bool' object is not iterable",
     "output_type": "error",
     "traceback": [
      "\u001b[1;31m---------------------------------------------------------------------------\u001b[0m",
      "\u001b[1;31mTypeError\u001b[0m                                 Traceback (most recent call last)",
      "\u001b[1;32m<ipython-input-40-d31bc13cddf0>\u001b[0m in \u001b[0;36m<module>\u001b[1;34m\u001b[0m\n\u001b[1;32m----> 1\u001b[1;33m \u001b[0mzones\u001b[0m \u001b[1;33m=\u001b[0m \u001b[0mshowChildrenByType\u001b[0m\u001b[1;33m(\u001b[0m\u001b[0mbuilding\u001b[0m\u001b[1;33m,\u001b[0m \u001b[1;34m'WINDOW'\u001b[0m\u001b[1;33m)\u001b[0m\u001b[1;33m\u001b[0m\u001b[1;33m\u001b[0m\u001b[0m\n\u001b[0m\u001b[0;32m      2\u001b[0m \u001b[0mzones\u001b[0m\u001b[1;33m\u001b[0m\u001b[1;33m\u001b[0m\u001b[0m\n",
      "\u001b[1;32mD:\\icepy\\basic.py\u001b[0m in \u001b[0;36mshowChildrenByType\u001b[1;34m(parent, child_type)\u001b[0m\n\u001b[0;32m    139\u001b[0m \u001b[1;32mdef\u001b[0m \u001b[0mshowChildrenByType\u001b[0m\u001b[1;33m(\u001b[0m\u001b[0mparent\u001b[0m\u001b[1;33m,\u001b[0m \u001b[0mchild_type\u001b[0m\u001b[1;33m)\u001b[0m\u001b[1;33m:\u001b[0m\u001b[1;33m\u001b[0m\u001b[1;33m\u001b[0m\u001b[0m\n\u001b[0;32m    140\u001b[0m     \"\"\"\n\u001b[1;32m--> 141\u001b[1;33m \u001b[1;33m\u001b[0m\u001b[0m\n\u001b[0m\u001b[0;32m    142\u001b[0m     \u001b[1;33m:\u001b[0m\u001b[0mparam\u001b[0m \u001b[0mparent\u001b[0m\u001b[1;33m:\u001b[0m\u001b[1;33m\u001b[0m\u001b[1;33m\u001b[0m\u001b[0m\n\u001b[0;32m    143\u001b[0m     \u001b[1;33m:\u001b[0m\u001b[0mparam\u001b[0m \u001b[0mchild_type\u001b[0m\u001b[1;33m:\u001b[0m \u001b[0mZONE\u001b[0m\u001b[1;33m,\u001b[0m \u001b[0mWINDOW\u001b[0m\u001b[1;33m,\u001b[0m \u001b[0mDET\u001b[0m\u001b[1;33m-\u001b[0m\u001b[0mWINDOW\u001b[0m\u001b[1;33m,\u001b[0m \u001b[0mOPENING\u001b[0m\u001b[1;33m\u001b[0m\u001b[1;33m\u001b[0m\u001b[0m\n",
      "\u001b[1;31mTypeError\u001b[0m: 'bool' object is not iterable"
     ]
    }
   ],
   "source": [
    "zones = showChildrenByType(building, 'WINDOW')\n",
    "zones"
   ]
  },
  {
   "cell_type": "code",
   "execution_count": null,
   "metadata": {},
   "outputs": [],
   "source": []
  }
 ],
 "metadata": {
  "kernelspec": {
   "display_name": "Python 3",
   "language": "python",
   "name": "python3"
  },
  "language_info": {
   "codemirror_mode": {
    "name": "ipython",
    "version": 3
   },
   "file_extension": ".py",
   "mimetype": "text/x-python",
   "name": "python",
   "nbconvert_exporter": "python",
   "pygments_lexer": "ipython3",
   "version": "3.8.2"
  }
 },
 "nbformat": 4,
 "nbformat_minor": 4
}
