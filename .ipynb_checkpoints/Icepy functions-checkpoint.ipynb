{
 "cells": [
  {
   "cell_type": "markdown",
   "metadata": {},
   "source": [
    "# Icepy functions\n",
    "\n",
    "The most commonly used icepy functions are gathered here."
   ]
  },
  {
   "cell_type": "markdown",
   "metadata": {},
   "source": [
    "## config.py\n",
    "The IDA ICE application path, building model path and mysql host are managed in config.py. \n",
    "* ICE\n",
    "* setice(ice_path)\n",
    "* setfile(building_path)\n",
    "* setmysql(host, port, dbname, user, password)\n",
    "\n",
    "### setice (path)\n",
    "\n"
   ]
  },
  {
   "cell_type": "code",
   "execution_count": 1,
   "metadata": {},
   "outputs": [],
   "source": [
    "from config import ICE"
   ]
  },
  {
   "cell_type": "code",
   "execution_count": 2,
   "metadata": {},
   "outputs": [
    {
     "data": {
      "text/plain": [
       "'D:\\\\idaice\\\\bin\\\\'"
      ]
     },
     "execution_count": 2,
     "metadata": {},
     "output_type": "execute_result"
    }
   ],
   "source": [
    "ICE.setice(\"D:\\\\idaice\\\\bin\\\\\")\n",
    "ICE.ice_path"
   ]
  },
  {
   "cell_type": "markdown",
   "metadata": {},
   "source": [
    "## basic.py\n",
    "The fundamental functions that icepy is used to communicate with IDA ICE are included.\n",
    "* connectIDA(building_path) - return building object\n",
    "* connectIDA2(building_path) - return building object, pid\n",
    "* openIDM(building_path) - return building_object (only used when IDA ICE instance is running)\n",
    "* saveIDM(building, apath, unpacked) (save when apath is emply or save to new path, packed:0 (default) or unpaced:1)\n",
    "* disconnectIDA(building) (save building object and disconnect)\n",
    "* runEnergySimu(building)\n",
    "* killprocess(pid)\n",
    "\n",
    "\n",
    "* showChildrenDict(parent) - return defaultdict (query all children objects by following the tree structure of IDM model, return as a defaultdict)\n",
    "* showChildrenList(parent) - return list (query all children objects by following the tree structure of IDM model, return as a list)\n",
    "* showChildrenDictValue(parent) - return dict(name:value) (Be carefully when using this function since some children may not have values)\n",
    "* showSingleChild(parent, child_name) - return child object, child value (Direct to the named child)\n",
    "* showChildrenByType(parent, child_type) - return children object list (child_type: ZONE, WINDOW, DET-WINDOW, OPENING)\n",
    "* setAttribute(object, text) (set value for an object with json format)\n",
    "\n",
    "### Below is an example of the tree structure for the IDM model\n",
    "You should follow the tree structure of the IDM model to visit the target paramters. The more detailed one is found in 'Outline' tab in IDA ICE.\n",
    "Pay attention:\n",
    "* child value is only available when the value exists, and only two types of values are returned, number and json list\n",
    "* setAttribute's text follows exactly json format and is only available for number."
   ]
  },
  {
   "cell_type": "code",
   "execution_count": 1,
   "metadata": {},
   "outputs": [],
   "source": [
    "import basic"
   ]
  },
  {
   "cell_type": "code",
   "execution_count": 2,
   "metadata": {},
   "outputs": [
    {
     "name": "stdout",
     "output_type": "stream",
     "text": [
      "1 6040\n"
     ]
    }
   ],
   "source": [
    "building1,pid1 = basic.connectIDA('D:\\\\ide_mine\\\\changing\\\\ut1_1.idm')\n",
    "print(building1,pid1)"
   ]
  },
  {
   "cell_type": "code",
   "execution_count": 4,
   "metadata": {},
   "outputs": [
    {
     "data": {
      "text/plain": [
       "['Kalmar',\n",
       " 'Kalmar-1968',\n",
       " 'Floor coating',\n",
       " 'L/W concrete',\n",
       " 'Concrete',\n",
       " 'Concrete floor 150mm',\n",
       " 'Render',\n",
       " 'Rendered l/w concrete wall 250',\n",
       " 'Gypsum',\n",
       " 'Air in 30 mm vert. air gap',\n",
       " 'Light insulation',\n",
       " 'Interior wall with insulation',\n",
       " 'Concrete floor 250mm',\n",
       " 'Concrete joist roof',\n",
       " 'Rendered concrete wall 200',\n",
       " 'Entrance door',\n",
       " 'Wood',\n",
       " 'Aluminium',\n",
       " 'Inner door',\n",
       " 'Ground without insulation',\n",
       " '3 pane glazing, clear, 4-12-4-12-4',\n",
       " '4 mm clear',\n",
       " 'Clear_glass-EN14501',\n",
       " 'Energy_glass-EN14501',\n",
       " 'Argon - EN673 (WIN7)',\n",
       " 'Air - EN673 (WIN7)',\n",
       " 'Solar_glass-EN14501',\n",
       " 'Glazing-A_EN14501',\n",
       " 'Glazing-B_EN14501',\n",
       " 'Glazing-C_EN14501',\n",
       " 'Glazing-D_EN14501',\n",
       " 'Single Clear (WIN7)',\n",
       " 'CLEAR_3.DAT (WIN7)',\n",
       " 'Double Clear Air (WIN7)',\n",
       " 'CLEAR_6.DAT (WIN7)',\n",
       " 'Air (WIN7)',\n",
       " 'Double high solar gain low-e (WIN7)',\n",
       " 'CLEAR5.LOF (WIN7)',\n",
       " 'LOW-E_5.LOF (WIN7)',\n",
       " 'Double low-e (air) - deflected (WIN7)',\n",
       " 'LoE270-6.CIG (WIN7)',\n",
       " 'STD-ZONE',\n",
       " 'LOCATION',\n",
       " 'WIND-PROFILE',\n",
       " 'CLIMATE-DEF',\n",
       " 'Lighting, facility',\n",
       " 'Lighting, tenant',\n",
       " 'Equipment, facility',\n",
       " 'Equipment, tenant',\n",
       " 'Electric cooling',\n",
       " 'Fuel cooling',\n",
       " 'District cooling',\n",
       " 'HVAC aux',\n",
       " 'Electric heating',\n",
       " 'Fuel heating',\n",
       " 'District heating',\n",
       " 'Heating, tenant',\n",
       " 'Domestic hot water',\n",
       " 'PV production',\n",
       " 'Wind turbine production',\n",
       " 'CHP electricity',\n",
       " 'SITE',\n",
       " 'SIMULATION_DATA',\n",
       " 'SIMULATIONS',\n",
       " 'SYSPARS',\n",
       " 'STORED-LOG',\n",
       " 'TOTAL-FLOOR-AREA',\n",
       " 'FLPLAN-PROTECT',\n",
       " 'THERMAL-BRIDGES',\n",
       " 'INFILTRATION',\n",
       " 'OTHER-LOSSES',\n",
       " 'DEFAULTS',\n",
       " 'CLIMATE',\n",
       " 'AHU',\n",
       " 'PLANT',\n",
       " 'CLIMATE-FILE',\n",
       " 'GROUND',\n",
       " 'PROJDATA',\n",
       " 'HOLIDAYS',\n",
       " 'CONTROLLER',\n",
       " 'OUTPUT',\n",
       " 'ARCDATA',\n",
       " 'Floor_36',\n",
       " 'Zone 1',\n",
       " 'ParmRun_1',\n",
       " 'THREE-D-MODEL',\n",
       " 'PROJECT_REPORT',\n",
       " 'PLANT_POWER',\n",
       " 'ENERGY-REPORT',\n",
       " 'SYSTEMS-ENERGY-REPORT',\n",
       " 'INDATA-REPORT']"
      ]
     },
     "execution_count": 4,
     "metadata": {},
     "output_type": "execute_result"
    }
   ],
   "source": [
    "basic.showChildrenList(building1)"
   ]
  },
  {
   "cell_type": "code",
   "execution_count": 6,
   "metadata": {},
   "outputs": [
    {
     "name": "stdout",
     "output_type": "stream",
     "text": [
      "2\n",
      "Slot VALUE of object #<LOCATION(LOCATION) Kalmar> found to be missing when attempting SLOT-VALUE.\n",
      "2 Slot VALUE of object #<LOCATION(LOCATION) Kalmar> found to be missing when attempting SLOT-VALUE.\n"
     ]
    }
   ],
   "source": [
    "kalma,kalma_value = basic.showSingleChild(building1, 'Kalmar')\n",
    "print(kalma,kalma_value)"
   ]
  },
  {
   "cell_type": "code",
   "execution_count": 8,
   "metadata": {},
   "outputs": [],
   "source": [
    "basic.killprocess(pid1)"
   ]
  },
  {
   "cell_type": "markdown",
   "metadata": {},
   "source": [
    "## modeleditor.py\n",
    "The python file integrates useful functions together and simplifies coding load for users.\n",
    "* IDM(folder, fname)\n",
    "* openfile(fname) - return building obejct (under same folder as before, relative path)\n",
    "* openfile_path(file_path) - return building object (absolute path of idm file in the PC)\n",
    "* saveas(path)\n",
    "* close()\n",
    "* save_close(path)\n",
    "* check_bld()      (check building object)\n",
    "\n",
    "\n",
    "* zoneclone(floor_ht, num_floors) - return res, newpath (clone zones according to floor height and number of floors to clone, save as a new file)\n",
    "* applyscript(num_floors, wins, doors) (apply windows and doors related Lisp scripts, for instance, add windows, add detailed windows, add doors, check turtorial 1 as an example)\n",
    "* applywwr_new(wwr, wall_width_list, floor_ht, name, option = 0) - return newpath (apply wwr ratio for the building with respect of wall width and floor height. A new file is created afterwards. Options: 0: proportional distribution   1: fixed height 1.5m  2: multiple standard windows)\n",
    "* applywwr_change(wwr, wall_width_list, floor_ht, name） （change windows sizes with wwr)\n",
    "* simulation_bld(new_path = None) (apply simulation to current IDM model)\n",
    "* simulation_path(path) - return computational results and paths of generated html reports (apply simulation to a particular IDM model)\n",
    "* simulation_rela(fname) (apply simulation to a particular IDM model in the same folder, relative path)\n",
    "\n",
    "Only for multiple WWR tests\n",
    "* sequential_simulation_wwr(paths, wwrs) (apply simulations to IDM models with WWR ratios)\n",
    "\n",
    "\n",
    "* html_report_bld(folder, filename)  (generate html report particularly with user defined folder and name)\n",
    "* html_report_path(filepath) (generate html report to a particular file path)\n",
    "* read_csv(file_path) -return list of dicts (read csv files of windows and doors and use for windows and doors addition)\n",
    "* read_csv_rela(relative_file_path) - return list of dicts (read csv files from current folder)"
   ]
  },
  {
   "cell_type": "code",
   "execution_count": null,
   "metadata": {},
   "outputs": [],
   "source": []
  },
  {
   "cell_type": "code",
   "execution_count": null,
   "metadata": {},
   "outputs": [],
   "source": []
  },
  {
   "cell_type": "markdown",
   "metadata": {},
   "source": [
    "## readhtml.py\n",
    "With the external python packages, we generate html reports -> retrieve Energy Grand Total (kwh, kwh/m2) and form dataframes -> plot dataframes\n",
    "Used python packege: BeautifulSoap4, pandas, plotly\n",
    "\n",
    "Generate html reports from IDM models\n",
    "* genehtml_bld(building, folder, filename)  - return generated html path (generate the html report for the current IDM model)\n",
    "* genehtml_path(path) - return generated html path (generate the html report for the target IDM model in the path\n",
    "* multi_gene_html_path(paths) - return list of html paths\n",
    "\n",
    "Read energy consumption from html reports\n",
    "* grand_total(html_path) - return dict of energy consumption (retrieve energy consumption data from the html report)\n",
    "* deliverd_energy_df(path, wwr) - return dataframe of delieverd energy overview (['wwr_ratio', 'facility', 'kwh', 'kwh/m2', 'kw'])\n",
    "* multi_df_html(html_dict_ls) - return a list of dataframes (multiple dataframe generation, with a list of dicts ( html path and wwr)\n",
    "* parametric_anls(dfs) (plot with dataframes)"
   ]
  },
  {
   "cell_type": "code",
   "execution_count": null,
   "metadata": {},
   "outputs": [],
   "source": []
  }
 ],
 "metadata": {
  "kernelspec": {
   "display_name": "Python 3",
   "language": "python",
   "name": "python3"
  },
  "language_info": {
   "codemirror_mode": {
    "name": "ipython",
    "version": 3
   },
   "file_extension": ".py",
   "mimetype": "text/x-python",
   "name": "python",
   "nbconvert_exporter": "python",
   "pygments_lexer": "ipython3",
   "version": "3.8.2"
  }
 },
 "nbformat": 4,
 "nbformat_minor": 4
}
