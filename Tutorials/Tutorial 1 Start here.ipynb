{
 "cells": [
  {
   "cell_type": "markdown",
   "metadata": {},
   "source": [
    "# ICEPY\n",
    "\n",
    "## Introduction\n",
    "\n",
    "Welcome to icepy ! \n",
    "\n",
    "Icepy is a python library for IDA ICE 4.8. It makes use of IDA ICE API functions to build idm models, change parameter, simulate and output results.It takes full advantage of the rich data structure and idioms that are avaliable in python. The power of using a scripting language allows you to do the following:\n",
    "\n",
    "* Make a large number of changes in an idm model with a few lines of icepy code.\n",
    "* Make changes to windows, doors, window-to-wall ratios in an idm model.\n",
    "* Apply an IDA ICE simulation run (Special license required from Equa).\n",
    "* Apply multiple simulation runs.\n",
    "* Read data from the output reports of an IDA ICE simulation."
   ]
  },
  {
   "cell_type": "markdown",
   "metadata": {},
   "source": [
    "# Start here\n",
    "This tutorial is intended as a walk-through for complete beginners to icepy.\n",
    "\n",
    "In outline, you will:\n",
    "\n",
    "* Install python3 32-bit and icepy\n",
    "* Install IDA ICE 4.8 (if you haven’t already)\n",
    "* Enable IDAMessageBrokerService \n",
    "* Create a simple test building based on baseline building\n",
    "* Run a simulation in IDA ICE 4.8\n",
    "* Read output results"
   ]
  },
  {
   "cell_type": "markdown",
   "metadata": {},
   "source": [
    "## Install python3 and icepy\n",
    "\n",
    "IDA ICE 4.8 is developed in Windows as a 32 bit program. You can download [python3](https://www.python.org/downloads/) in your PC. Please make sure a 32-bit version is installed. \n",
    "\n",
    "After successfully installed python3 32-bit, you can install icepy with the command line.  "
   ]
  },
  {
   "cell_type": "raw",
   "metadata": {},
   "source": [
    "$ pip install icepy"
   ]
  },
  {
   "cell_type": "markdown",
   "metadata": {},
   "source": [
    "## Install IDA ICE\n",
    "\n",
    "IDA ICE is a software developed for building energy simulation by Equa. If you haven't have it installed, please contact [Equa](https://www.equa.se/en/). It is worth mentioning, the simulation function via IDA ICE API requires a spcieal version of license. Please make sure you get the correct license."
   ]
  },
  {
   "cell_type": "markdown",
   "metadata": {},
   "source": [
    "## Enable IDAMessageBrokerService\n",
    "\n",
    "Fllow steps:\n",
    "* Windows Services Management Tool (system level)  \n",
    "* start 'IDAMessageBrokerService \n",
    "* Optional: Startup Type: Automatic"
   ]
  },
  {
   "cell_type": "markdown",
   "metadata": {},
   "source": [
    "## Create a simple testing model"
   ]
  },
  {
   "cell_type": "markdown",
   "metadata": {},
   "source": [
    "### Step 1 : Replate the path to IDA ICE installation folder\n",
    "\n",
    "You’ll need to replace the path to the IDAICE installation folder with the appropriate path.\n",
    "\n",
    "For example, on Windows, this is usually C:\\\\IDAICE\\\\bin\\\\"
   ]
  },
  {
   "cell_type": "code",
   "execution_count": 1,
   "metadata": {},
   "outputs": [],
   "source": [
    "from icepy.config import ICE"
   ]
  },
  {
   "cell_type": "code",
   "execution_count": 2,
   "metadata": {},
   "outputs": [
    {
     "data": {
      "text/plain": [
       "'D:\\\\idaice\\\\bin\\\\'"
      ]
     },
     "execution_count": 2,
     "metadata": {},
     "output_type": "execute_result"
    }
   ],
   "source": [
    "ICE.setice(\"D:\\\\idaice\\\\bin\\\\\")\n",
    "ICE.ice_path"
   ]
  },
  {
   "cell_type": "markdown",
   "metadata": {},
   "source": [
    "### Step 2 : Import an idm model\n",
    "\n",
    "For instance, we import an example idm model. You can download from [icepy github page](https://github.com/chenglongfu11/icepy/tree/master/buildings). "
   ]
  },
  {
   "cell_type": "code",
   "execution_count": 3,
   "metadata": {},
   "outputs": [],
   "source": [
    "folder = 'D:\\\\ide_mine\\\\changing\\\\'\n",
    "base_model = 'ut1_1'"
   ]
  },
  {
   "cell_type": "markdown",
   "metadata": {},
   "source": [
    "The wall width list and the building height are provided along with the idm model. "
   ]
  },
  {
   "cell_type": "code",
   "execution_count": 4,
   "metadata": {},
   "outputs": [],
   "source": [
    "wall_width_list = [4, 7.5, 11.63, 10.27, 18.07, 20.587, 6.543, 8.72, 6.5176, 4, 6.48, 2.59, 31, 4, 9.886, 8.554,\n",
    "                       13.899, 11.15, 9.98]\n",
    "building_ht = 22.5 "
   ]
  },
  {
   "cell_type": "markdown",
   "metadata": {},
   "source": [
    "You can set desired the floor height, the number of floors. "
   ]
  },
  {
   "cell_type": "code",
   "execution_count": 5,
   "metadata": {},
   "outputs": [],
   "source": [
    "floor_ht = 3                 \n",
    "num_floors = 5"
   ]
  },
  {
   "cell_type": "markdown",
   "metadata": {},
   "source": [
    "Let's import the idm model"
   ]
  },
  {
   "cell_type": "code",
   "execution_count": 6,
   "metadata": {},
   "outputs": [],
   "source": [
    "from icepy.modeleditor import IDM\n",
    "idm = IDM(folder, base_model)"
   ]
  },
  {
   "cell_type": "code",
   "execution_count": 7,
   "metadata": {},
   "outputs": [],
   "source": [
    "# Building object\n",
    "building = idm.openfile(base_model)"
   ]
  },
  {
   "cell_type": "markdown",
   "metadata": {},
   "source": [
    "### Step 2: Clone zones\n",
    "\n",
    "In the idm model, one zone with 2.6 height for the ground floor is included. We assume there is one zone for each floor. So we clone zones. Note that the collection of zones should not overflow this building."
   ]
  },
  {
   "cell_type": "code",
   "execution_count": 8,
   "metadata": {},
   "outputs": [
    {
     "name": "stdout",
     "output_type": "stream",
     "text": [
      "Changing ceiling height\n",
      "The current CEILING-HEIGHT value is 2.600000, and the type is <class 'float'>\n",
      "True\n",
      "True\n",
      "True\n",
      "True\n"
     ]
    },
    {
     "data": {
      "text/plain": [
       "True"
      ]
     },
     "execution_count": 8,
     "metadata": {},
     "output_type": "execute_result"
    }
   ],
   "source": [
    "result, new_file = idm.zoneclone(floor_ht, num_floors)\n",
    "result"
   ]
  },
  {
   "cell_type": "markdown",
   "metadata": {},
   "source": [
    "A new file name is generated, then we can save the new idm file with cloned zones."
   ]
  },
  {
   "cell_type": "code",
   "execution_count": 9,
   "metadata": {},
   "outputs": [
    {
     "name": "stdout",
     "output_type": "stream",
     "text": [
      "Successfully save file : D:\\ide_mine\\changing\\ut1_1_5floor.idm\n"
     ]
    },
    {
     "data": {
      "text/plain": [
       "True"
      ]
     },
     "execution_count": 9,
     "metadata": {},
     "output_type": "execute_result"
    }
   ],
   "source": [
    "\n",
    "idm.saveas(new_file)"
   ]
  },
  {
   "cell_type": "markdown",
   "metadata": {},
   "source": [
    "### Step 3: Add windows and doors\n",
    "\n"
   ]
  },
  {
   "cell_type": "code",
   "execution_count": 10,
   "metadata": {},
   "outputs": [],
   "source": [
    "# Windows\n",
    "wins = []\n",
    "win_dx = 1.5\n",
    "win_dy = 1.2\n",
    "for i in range(len(wall_width_list)):\n",
    "    width = wall_width_list[i]\n",
    "    if width > win_dx + 2 and floor_ht > win_dy:  # to make sure it is in the zone\n",
    "        win = {}\n",
    "        win['wall_name'] = 'WALL_' + str(i + 1)\n",
    "        win['win_x'] = str(width / 2 - win_dx / 2)\n",
    "        win['win_y'] = '0.8'\n",
    "        win['win_dx'] = '1.5'\n",
    "        win['win_dy'] = '1.2'\n",
    "        wins.append(win)"
   ]
  },
  {
   "cell_type": "code",
   "execution_count": 11,
   "metadata": {},
   "outputs": [],
   "source": [
    "# Detailed window\n",
    "win2 = {}\n",
    "win2['wall_name'] = 'WALL_13'\n",
    "win2['win_x'] = '26.015'\n",
    "win2['win_y'] = '0.8'\n",
    "win2['win_dx'] = '3'\n",
    "win2['win_dy'] = '1.8'\n",
    "win2['detailed'] = 1   # true 1   false 0\n",
    "win2['glazing'] = 1\n",
    "wins.append(win2)"
   ]
  },
  {
   "cell_type": "code",
   "execution_count": 12,
   "metadata": {},
   "outputs": [],
   "source": [
    "# Doors\n",
    "doors = []\n",
    "door = {}\n",
    "door['wall_name'] = 'WALL_6'\n",
    "door['door_x'] = '3.21'\n",
    "doors.append(door)"
   ]
  },
  {
   "cell_type": "markdown",
   "metadata": {},
   "source": [
    "Now, we have designed several windows and doors to add to the building model. You can also read csv files like examples in [icepy github page](https://github.com/chenglongfu11/icepy/tree/master/buildings). \n",
    "\n",
    "We then apply these components into the model. Ideally, they are uniformly distributed on eahc floor."
   ]
  },
  {
   "cell_type": "code",
   "execution_count": 13,
   "metadata": {},
   "outputs": [
    {
     "name": "stdout",
     "output_type": "stream",
     "text": [
      "((CE-ZONE :N \"Zone 1\")( (AGGREGATE :N THERMAL-BRIDGES) (:PAR :N WIN-PERIM-LEN)(:PAR :N WIN-PERIM-LEN)(:PAR :N WIN-PERIM-LEN)(:PAR :N WIN-PERIM-LEN)(:PAR :N WIN-PERIM-LEN)(:PAR :N WIN-PERIM-LEN)(:PAR :N WIN-PERIM-LEN)(:PAR :N WIN-PERIM-LEN)(:PAR :N WIN-PERIM-LEN)(:PAR :N WIN-PERIM-LEN)(:PAR :N WIN-PERIM-LEN)(:PAR :N WIN-PERIM-LEN)(:PAR :N WIN-PERIM-LEN)(:PAR :N WIN-PERIM-LEN)(:PAR :N WIN-PERIM-LEN)(:PAR :N WIN-PERIM-LEN)(:PAR :N WIN-PERIM-LEN)(:PAR :N WIN-PERIM-LEN)(:PAR :N WIN-PERIM-LEN)(:PAR :N DOOR-PERIM-LEN))( (ENCLOSING-ELEMENT :N WALL_1)(:ADD (CE-WINDOW :N \"Window\" :T WINDOW)  (:PAR :N X :V 1.25) (:PAR :N Y :V 0.8) (:PAR :N DX :V 1.5) (:PAR :N DY :V 1.2) (:PAR :N LIGHT-LEVEL) (:PAR :N CD_LO)  )) ( (ENCLOSING-ELEMENT :N WALL_2)(:ADD (CE-WINDOW :N \"Window\" :T WINDOW)  (:PAR :N X :V 3.0) (:PAR :N Y :V 0.8) (:PAR :N DX :V 1.5) (:PAR :N DY :V 1.2) (:PAR :N LIGHT-LEVEL) (:PAR :N CD_LO)  )) ( (ENCLOSING-ELEMENT :N WALL_3)(:ADD (CE-WINDOW :N \"Window\" :T WINDOW)  (:PAR :N X :V 5.065) (:PAR :N Y :V 0.8) (:PAR :N DX :V 1.5) (:PAR :N DY :V 1.2) (:PAR :N LIGHT-LEVEL) (:PAR :N CD_LO)  )) ( (ENCLOSING-ELEMENT :N WALL_4)(:ADD (CE-WINDOW :N \"Window\" :T WINDOW)  (:PAR :N X :V 4.385) (:PAR :N Y :V 0.8) (:PAR :N DX :V 1.5) (:PAR :N DY :V 1.2) (:PAR :N LIGHT-LEVEL) (:PAR :N CD_LO)  )) ( (ENCLOSING-ELEMENT :N WALL_5)(:ADD (CE-WINDOW :N \"Window\" :T WINDOW)  (:PAR :N X :V 8.285) (:PAR :N Y :V 0.8) (:PAR :N DX :V 1.5) (:PAR :N DY :V 1.2) (:PAR :N LIGHT-LEVEL) (:PAR :N CD_LO)  )) ( (ENCLOSING-ELEMENT :N WALL_6)(:ADD (CE-WINDOW :N \"Window\" :T WINDOW)  (:PAR :N X :V 9.5435) (:PAR :N Y :V 0.8) (:PAR :N DX :V 1.5) (:PAR :N DY :V 1.2) (:PAR :N LIGHT-LEVEL) (:PAR :N CD_LO)  )) ( (ENCLOSING-ELEMENT :N WALL_7)(:ADD (CE-WINDOW :N \"Window\" :T WINDOW)  (:PAR :N X :V 2.5215) (:PAR :N Y :V 0.8) (:PAR :N DX :V 1.5) (:PAR :N DY :V 1.2) (:PAR :N LIGHT-LEVEL) (:PAR :N CD_LO)  )) ( (ENCLOSING-ELEMENT :N WALL_8)(:ADD (CE-WINDOW :N \"Window\" :T WINDOW)  (:PAR :N X :V 3.6100000000000003) (:PAR :N Y :V 0.8) (:PAR :N DX :V 1.5) (:PAR :N DY :V 1.2) (:PAR :N LIGHT-LEVEL) (:PAR :N CD_LO)  )) ( (ENCLOSING-ELEMENT :N WALL_9)(:ADD (CE-WINDOW :N \"Window\" :T WINDOW)  (:PAR :N X :V 2.5088) (:PAR :N Y :V 0.8) (:PAR :N DX :V 1.5) (:PAR :N DY :V 1.2) (:PAR :N LIGHT-LEVEL) (:PAR :N CD_LO)  )) ( (ENCLOSING-ELEMENT :N WALL_10)(:ADD (CE-WINDOW :N \"Window\" :T WINDOW)  (:PAR :N X :V 1.25) (:PAR :N Y :V 0.8) (:PAR :N DX :V 1.5) (:PAR :N DY :V 1.2) (:PAR :N LIGHT-LEVEL) (:PAR :N CD_LO)  )) ( (ENCLOSING-ELEMENT :N WALL_11)(:ADD (CE-WINDOW :N \"Window\" :T WINDOW)  (:PAR :N X :V 2.49) (:PAR :N Y :V 0.8) (:PAR :N DX :V 1.5) (:PAR :N DY :V 1.2) (:PAR :N LIGHT-LEVEL) (:PAR :N CD_LO)  )) ( (ENCLOSING-ELEMENT :N WALL_13)(:ADD (CE-WINDOW :N \"Window\" :T WINDOW)  (:PAR :N X :V 14.75) (:PAR :N Y :V 0.8) (:PAR :N DX :V 1.5) (:PAR :N DY :V 1.2) (:PAR :N LIGHT-LEVEL) (:PAR :N CD_LO)  )(:ADD (CE-WINDOW :N \"DetWin1\" :T DET-WINDOW)  (:PAR :N X :V 26.015) (:PAR :N Y :V 0.8) (:PAR :N DX :V 3) (:PAR :N DY :V 1.8) (:RES :N GLAZING :V \"Single Clear (WIN7)\") (:PAR :N LIGHT-LEVEL) (:PAR :N CD_LO)  )) ( (ENCLOSING-ELEMENT :N WALL_14)(:ADD (CE-WINDOW :N \"Window\" :T WINDOW)  (:PAR :N X :V 1.25) (:PAR :N Y :V 0.8) (:PAR :N DX :V 1.5) (:PAR :N DY :V 1.2) (:PAR :N LIGHT-LEVEL) (:PAR :N CD_LO)  )) ( (ENCLOSING-ELEMENT :N WALL_15)(:ADD (CE-WINDOW :N \"Window\" :T WINDOW)  (:PAR :N X :V 4.193) (:PAR :N Y :V 0.8) (:PAR :N DX :V 1.5) (:PAR :N DY :V 1.2) (:PAR :N LIGHT-LEVEL) (:PAR :N CD_LO)  )) ( (ENCLOSING-ELEMENT :N WALL_16)(:ADD (CE-WINDOW :N \"Window\" :T WINDOW)  (:PAR :N X :V 3.527) (:PAR :N Y :V 0.8) (:PAR :N DX :V 1.5) (:PAR :N DY :V 1.2) (:PAR :N LIGHT-LEVEL) (:PAR :N CD_LO)  )) ( (ENCLOSING-ELEMENT :N WALL_17)(:ADD (CE-WINDOW :N \"Window\" :T WINDOW)  (:PAR :N X :V 6.1995) (:PAR :N Y :V 0.8) (:PAR :N DX :V 1.5) (:PAR :N DY :V 1.2) (:PAR :N LIGHT-LEVEL) (:PAR :N CD_LO)  )) ( (ENCLOSING-ELEMENT :N WALL_18)(:ADD (CE-WINDOW :N \"Window\" :T WINDOW)  (:PAR :N X :V 4.825) (:PAR :N Y :V 0.8) (:PAR :N DX :V 1.5) (:PAR :N DY :V 1.2) (:PAR :N LIGHT-LEVEL) (:PAR :N CD_LO)  )) ( (ENCLOSING-ELEMENT :N WALL_19)(:ADD (CE-WINDOW :N \"Window\" :T WINDOW)  (:PAR :N X :V 4.24) (:PAR :N Y :V 0.8) (:PAR :N DX :V 1.5) (:PAR :N DY :V 1.2) (:PAR :N LIGHT-LEVEL) (:PAR :N CD_LO)  ))( (ENCLOSING-ELEMENT :N WALL_6)(:ADD (OPENING :N \"Door\" :T OPENING) (:PAR :N X :V 3.21) (:PAR :N CD_LO))))\n",
      "((CE-ZONE :N \"Zone 2\")( (AGGREGATE :N THERMAL-BRIDGES) (:PAR :N WIN-PERIM-LEN)(:PAR :N WIN-PERIM-LEN)(:PAR :N WIN-PERIM-LEN)(:PAR :N WIN-PERIM-LEN)(:PAR :N WIN-PERIM-LEN)(:PAR :N WIN-PERIM-LEN)(:PAR :N WIN-PERIM-LEN)(:PAR :N WIN-PERIM-LEN)(:PAR :N WIN-PERIM-LEN)(:PAR :N WIN-PERIM-LEN)(:PAR :N WIN-PERIM-LEN)(:PAR :N WIN-PERIM-LEN)(:PAR :N WIN-PERIM-LEN)(:PAR :N WIN-PERIM-LEN)(:PAR :N WIN-PERIM-LEN)(:PAR :N WIN-PERIM-LEN)(:PAR :N WIN-PERIM-LEN)(:PAR :N WIN-PERIM-LEN)(:PAR :N WIN-PERIM-LEN)(:PAR :N DOOR-PERIM-LEN))( (ENCLOSING-ELEMENT :N WALL_1)(:ADD (CE-WINDOW :N \"Window\" :T WINDOW)  (:PAR :N X :V 1.25) (:PAR :N Y :V 0.8) (:PAR :N DX :V 1.5) (:PAR :N DY :V 1.2) (:PAR :N LIGHT-LEVEL) (:PAR :N CD_LO)  )) ( (ENCLOSING-ELEMENT :N WALL_2)(:ADD (CE-WINDOW :N \"Window\" :T WINDOW)  (:PAR :N X :V 3.0) (:PAR :N Y :V 0.8) (:PAR :N DX :V 1.5) (:PAR :N DY :V 1.2) (:PAR :N LIGHT-LEVEL) (:PAR :N CD_LO)  )) ( (ENCLOSING-ELEMENT :N WALL_3)(:ADD (CE-WINDOW :N \"Window\" :T WINDOW)  (:PAR :N X :V 5.065) (:PAR :N Y :V 0.8) (:PAR :N DX :V 1.5) (:PAR :N DY :V 1.2) (:PAR :N LIGHT-LEVEL) (:PAR :N CD_LO)  )) ( (ENCLOSING-ELEMENT :N WALL_4)(:ADD (CE-WINDOW :N \"Window\" :T WINDOW)  (:PAR :N X :V 4.385) (:PAR :N Y :V 0.8) (:PAR :N DX :V 1.5) (:PAR :N DY :V 1.2) (:PAR :N LIGHT-LEVEL) (:PAR :N CD_LO)  )) ( (ENCLOSING-ELEMENT :N WALL_5)(:ADD (CE-WINDOW :N \"Window\" :T WINDOW)  (:PAR :N X :V 8.285) (:PAR :N Y :V 0.8) (:PAR :N DX :V 1.5) (:PAR :N DY :V 1.2) (:PAR :N LIGHT-LEVEL) (:PAR :N CD_LO)  )) ( (ENCLOSING-ELEMENT :N WALL_6)(:ADD (CE-WINDOW :N \"Window\" :T WINDOW)  (:PAR :N X :V 9.5435) (:PAR :N Y :V 0.8) (:PAR :N DX :V 1.5) (:PAR :N DY :V 1.2) (:PAR :N LIGHT-LEVEL) (:PAR :N CD_LO)  )) ( (ENCLOSING-ELEMENT :N WALL_7)(:ADD (CE-WINDOW :N \"Window\" :T WINDOW)  (:PAR :N X :V 2.5215) (:PAR :N Y :V 0.8) (:PAR :N DX :V 1.5) (:PAR :N DY :V 1.2) (:PAR :N LIGHT-LEVEL) (:PAR :N CD_LO)  )) ( (ENCLOSING-ELEMENT :N WALL_8)(:ADD (CE-WINDOW :N \"Window\" :T WINDOW)  (:PAR :N X :V 3.6100000000000003) (:PAR :N Y :V 0.8) (:PAR :N DX :V 1.5) (:PAR :N DY :V 1.2) (:PAR :N LIGHT-LEVEL) (:PAR :N CD_LO)  )) ( (ENCLOSING-ELEMENT :N WALL_9)(:ADD (CE-WINDOW :N \"Window\" :T WINDOW)  (:PAR :N X :V 2.5088) (:PAR :N Y :V 0.8) (:PAR :N DX :V 1.5) (:PAR :N DY :V 1.2) (:PAR :N LIGHT-LEVEL) (:PAR :N CD_LO)  )) ( (ENCLOSING-ELEMENT :N WALL_10)(:ADD (CE-WINDOW :N \"Window\" :T WINDOW)  (:PAR :N X :V 1.25) (:PAR :N Y :V 0.8) (:PAR :N DX :V 1.5) (:PAR :N DY :V 1.2) (:PAR :N LIGHT-LEVEL) (:PAR :N CD_LO)  )) ( (ENCLOSING-ELEMENT :N WALL_11)(:ADD (CE-WINDOW :N \"Window\" :T WINDOW)  (:PAR :N X :V 2.49) (:PAR :N Y :V 0.8) (:PAR :N DX :V 1.5) (:PAR :N DY :V 1.2) (:PAR :N LIGHT-LEVEL) (:PAR :N CD_LO)  )) ( (ENCLOSING-ELEMENT :N WALL_13)(:ADD (CE-WINDOW :N \"Window\" :T WINDOW)  (:PAR :N X :V 14.75) (:PAR :N Y :V 0.8) (:PAR :N DX :V 1.5) (:PAR :N DY :V 1.2) (:PAR :N LIGHT-LEVEL) (:PAR :N CD_LO)  )(:ADD (CE-WINDOW :N \"DetWin1\" :T DET-WINDOW)  (:PAR :N X :V 26.015) (:PAR :N Y :V 0.8) (:PAR :N DX :V 3) (:PAR :N DY :V 1.8) (:RES :N GLAZING :V \"Single Clear (WIN7)\") (:PAR :N LIGHT-LEVEL) (:PAR :N CD_LO)  )) ( (ENCLOSING-ELEMENT :N WALL_14)(:ADD (CE-WINDOW :N \"Window\" :T WINDOW)  (:PAR :N X :V 1.25) (:PAR :N Y :V 0.8) (:PAR :N DX :V 1.5) (:PAR :N DY :V 1.2) (:PAR :N LIGHT-LEVEL) (:PAR :N CD_LO)  )) ( (ENCLOSING-ELEMENT :N WALL_15)(:ADD (CE-WINDOW :N \"Window\" :T WINDOW)  (:PAR :N X :V 4.193) (:PAR :N Y :V 0.8) (:PAR :N DX :V 1.5) (:PAR :N DY :V 1.2) (:PAR :N LIGHT-LEVEL) (:PAR :N CD_LO)  )) ( (ENCLOSING-ELEMENT :N WALL_16)(:ADD (CE-WINDOW :N \"Window\" :T WINDOW)  (:PAR :N X :V 3.527) (:PAR :N Y :V 0.8) (:PAR :N DX :V 1.5) (:PAR :N DY :V 1.2) (:PAR :N LIGHT-LEVEL) (:PAR :N CD_LO)  )) ( (ENCLOSING-ELEMENT :N WALL_17)(:ADD (CE-WINDOW :N \"Window\" :T WINDOW)  (:PAR :N X :V 6.1995) (:PAR :N Y :V 0.8) (:PAR :N DX :V 1.5) (:PAR :N DY :V 1.2) (:PAR :N LIGHT-LEVEL) (:PAR :N CD_LO)  )) ( (ENCLOSING-ELEMENT :N WALL_18)(:ADD (CE-WINDOW :N \"Window\" :T WINDOW)  (:PAR :N X :V 4.825) (:PAR :N Y :V 0.8) (:PAR :N DX :V 1.5) (:PAR :N DY :V 1.2) (:PAR :N LIGHT-LEVEL) (:PAR :N CD_LO)  )) ( (ENCLOSING-ELEMENT :N WALL_19)(:ADD (CE-WINDOW :N \"Window\" :T WINDOW)  (:PAR :N X :V 4.24) (:PAR :N Y :V 0.8) (:PAR :N DX :V 1.5) (:PAR :N DY :V 1.2) (:PAR :N LIGHT-LEVEL) (:PAR :N CD_LO)  ))( (ENCLOSING-ELEMENT :N WALL_6)(:ADD (OPENING :N \"Door\" :T OPENING) (:PAR :N X :V 3.21) (:PAR :N CD_LO))))\n",
      "((CE-ZONE :N \"Zone 3\")( (AGGREGATE :N THERMAL-BRIDGES) (:PAR :N WIN-PERIM-LEN)(:PAR :N WIN-PERIM-LEN)(:PAR :N WIN-PERIM-LEN)(:PAR :N WIN-PERIM-LEN)(:PAR :N WIN-PERIM-LEN)(:PAR :N WIN-PERIM-LEN)(:PAR :N WIN-PERIM-LEN)(:PAR :N WIN-PERIM-LEN)(:PAR :N WIN-PERIM-LEN)(:PAR :N WIN-PERIM-LEN)(:PAR :N WIN-PERIM-LEN)(:PAR :N WIN-PERIM-LEN)(:PAR :N WIN-PERIM-LEN)(:PAR :N WIN-PERIM-LEN)(:PAR :N WIN-PERIM-LEN)(:PAR :N WIN-PERIM-LEN)(:PAR :N WIN-PERIM-LEN)(:PAR :N WIN-PERIM-LEN)(:PAR :N WIN-PERIM-LEN)(:PAR :N DOOR-PERIM-LEN))( (ENCLOSING-ELEMENT :N WALL_1)(:ADD (CE-WINDOW :N \"Window\" :T WINDOW)  (:PAR :N X :V 1.25) (:PAR :N Y :V 0.8) (:PAR :N DX :V 1.5) (:PAR :N DY :V 1.2) (:PAR :N LIGHT-LEVEL) (:PAR :N CD_LO)  )) ( (ENCLOSING-ELEMENT :N WALL_2)(:ADD (CE-WINDOW :N \"Window\" :T WINDOW)  (:PAR :N X :V 3.0) (:PAR :N Y :V 0.8) (:PAR :N DX :V 1.5) (:PAR :N DY :V 1.2) (:PAR :N LIGHT-LEVEL) (:PAR :N CD_LO)  )) ( (ENCLOSING-ELEMENT :N WALL_3)(:ADD (CE-WINDOW :N \"Window\" :T WINDOW)  (:PAR :N X :V 5.065) (:PAR :N Y :V 0.8) (:PAR :N DX :V 1.5) (:PAR :N DY :V 1.2) (:PAR :N LIGHT-LEVEL) (:PAR :N CD_LO)  )) ( (ENCLOSING-ELEMENT :N WALL_4)(:ADD (CE-WINDOW :N \"Window\" :T WINDOW)  (:PAR :N X :V 4.385) (:PAR :N Y :V 0.8) (:PAR :N DX :V 1.5) (:PAR :N DY :V 1.2) (:PAR :N LIGHT-LEVEL) (:PAR :N CD_LO)  )) ( (ENCLOSING-ELEMENT :N WALL_5)(:ADD (CE-WINDOW :N \"Window\" :T WINDOW)  (:PAR :N X :V 8.285) (:PAR :N Y :V 0.8) (:PAR :N DX :V 1.5) (:PAR :N DY :V 1.2) (:PAR :N LIGHT-LEVEL) (:PAR :N CD_LO)  )) ( (ENCLOSING-ELEMENT :N WALL_6)(:ADD (CE-WINDOW :N \"Window\" :T WINDOW)  (:PAR :N X :V 9.5435) (:PAR :N Y :V 0.8) (:PAR :N DX :V 1.5) (:PAR :N DY :V 1.2) (:PAR :N LIGHT-LEVEL) (:PAR :N CD_LO)  )) ( (ENCLOSING-ELEMENT :N WALL_7)(:ADD (CE-WINDOW :N \"Window\" :T WINDOW)  (:PAR :N X :V 2.5215) (:PAR :N Y :V 0.8) (:PAR :N DX :V 1.5) (:PAR :N DY :V 1.2) (:PAR :N LIGHT-LEVEL) (:PAR :N CD_LO)  )) ( (ENCLOSING-ELEMENT :N WALL_8)(:ADD (CE-WINDOW :N \"Window\" :T WINDOW)  (:PAR :N X :V 3.6100000000000003) (:PAR :N Y :V 0.8) (:PAR :N DX :V 1.5) (:PAR :N DY :V 1.2) (:PAR :N LIGHT-LEVEL) (:PAR :N CD_LO)  )) ( (ENCLOSING-ELEMENT :N WALL_9)(:ADD (CE-WINDOW :N \"Window\" :T WINDOW)  (:PAR :N X :V 2.5088) (:PAR :N Y :V 0.8) (:PAR :N DX :V 1.5) (:PAR :N DY :V 1.2) (:PAR :N LIGHT-LEVEL) (:PAR :N CD_LO)  )) ( (ENCLOSING-ELEMENT :N WALL_10)(:ADD (CE-WINDOW :N \"Window\" :T WINDOW)  (:PAR :N X :V 1.25) (:PAR :N Y :V 0.8) (:PAR :N DX :V 1.5) (:PAR :N DY :V 1.2) (:PAR :N LIGHT-LEVEL) (:PAR :N CD_LO)  )) ( (ENCLOSING-ELEMENT :N WALL_11)(:ADD (CE-WINDOW :N \"Window\" :T WINDOW)  (:PAR :N X :V 2.49) (:PAR :N Y :V 0.8) (:PAR :N DX :V 1.5) (:PAR :N DY :V 1.2) (:PAR :N LIGHT-LEVEL) (:PAR :N CD_LO)  )) ( (ENCLOSING-ELEMENT :N WALL_13)(:ADD (CE-WINDOW :N \"Window\" :T WINDOW)  (:PAR :N X :V 14.75) (:PAR :N Y :V 0.8) (:PAR :N DX :V 1.5) (:PAR :N DY :V 1.2) (:PAR :N LIGHT-LEVEL) (:PAR :N CD_LO)  )(:ADD (CE-WINDOW :N \"DetWin1\" :T DET-WINDOW)  (:PAR :N X :V 26.015) (:PAR :N Y :V 0.8) (:PAR :N DX :V 3) (:PAR :N DY :V 1.8) (:RES :N GLAZING :V \"Single Clear (WIN7)\") (:PAR :N LIGHT-LEVEL) (:PAR :N CD_LO)  )) ( (ENCLOSING-ELEMENT :N WALL_14)(:ADD (CE-WINDOW :N \"Window\" :T WINDOW)  (:PAR :N X :V 1.25) (:PAR :N Y :V 0.8) (:PAR :N DX :V 1.5) (:PAR :N DY :V 1.2) (:PAR :N LIGHT-LEVEL) (:PAR :N CD_LO)  )) ( (ENCLOSING-ELEMENT :N WALL_15)(:ADD (CE-WINDOW :N \"Window\" :T WINDOW)  (:PAR :N X :V 4.193) (:PAR :N Y :V 0.8) (:PAR :N DX :V 1.5) (:PAR :N DY :V 1.2) (:PAR :N LIGHT-LEVEL) (:PAR :N CD_LO)  )) ( (ENCLOSING-ELEMENT :N WALL_16)(:ADD (CE-WINDOW :N \"Window\" :T WINDOW)  (:PAR :N X :V 3.527) (:PAR :N Y :V 0.8) (:PAR :N DX :V 1.5) (:PAR :N DY :V 1.2) (:PAR :N LIGHT-LEVEL) (:PAR :N CD_LO)  )) ( (ENCLOSING-ELEMENT :N WALL_17)(:ADD (CE-WINDOW :N \"Window\" :T WINDOW)  (:PAR :N X :V 6.1995) (:PAR :N Y :V 0.8) (:PAR :N DX :V 1.5) (:PAR :N DY :V 1.2) (:PAR :N LIGHT-LEVEL) (:PAR :N CD_LO)  )) ( (ENCLOSING-ELEMENT :N WALL_18)(:ADD (CE-WINDOW :N \"Window\" :T WINDOW)  (:PAR :N X :V 4.825) (:PAR :N Y :V 0.8) (:PAR :N DX :V 1.5) (:PAR :N DY :V 1.2) (:PAR :N LIGHT-LEVEL) (:PAR :N CD_LO)  )) ( (ENCLOSING-ELEMENT :N WALL_19)(:ADD (CE-WINDOW :N \"Window\" :T WINDOW)  (:PAR :N X :V 4.24) (:PAR :N Y :V 0.8) (:PAR :N DX :V 1.5) (:PAR :N DY :V 1.2) (:PAR :N LIGHT-LEVEL) (:PAR :N CD_LO)  ))( (ENCLOSING-ELEMENT :N WALL_6)(:ADD (OPENING :N \"Door\" :T OPENING) (:PAR :N X :V 3.21) (:PAR :N CD_LO))))\n",
      "((CE-ZONE :N \"Zone 4\")( (AGGREGATE :N THERMAL-BRIDGES) (:PAR :N WIN-PERIM-LEN)(:PAR :N WIN-PERIM-LEN)(:PAR :N WIN-PERIM-LEN)(:PAR :N WIN-PERIM-LEN)(:PAR :N WIN-PERIM-LEN)(:PAR :N WIN-PERIM-LEN)(:PAR :N WIN-PERIM-LEN)(:PAR :N WIN-PERIM-LEN)(:PAR :N WIN-PERIM-LEN)(:PAR :N WIN-PERIM-LEN)(:PAR :N WIN-PERIM-LEN)(:PAR :N WIN-PERIM-LEN)(:PAR :N WIN-PERIM-LEN)(:PAR :N WIN-PERIM-LEN)(:PAR :N WIN-PERIM-LEN)(:PAR :N WIN-PERIM-LEN)(:PAR :N WIN-PERIM-LEN)(:PAR :N WIN-PERIM-LEN)(:PAR :N WIN-PERIM-LEN)(:PAR :N DOOR-PERIM-LEN))( (ENCLOSING-ELEMENT :N WALL_1)(:ADD (CE-WINDOW :N \"Window\" :T WINDOW)  (:PAR :N X :V 1.25) (:PAR :N Y :V 0.8) (:PAR :N DX :V 1.5) (:PAR :N DY :V 1.2) (:PAR :N LIGHT-LEVEL) (:PAR :N CD_LO)  )) ( (ENCLOSING-ELEMENT :N WALL_2)(:ADD (CE-WINDOW :N \"Window\" :T WINDOW)  (:PAR :N X :V 3.0) (:PAR :N Y :V 0.8) (:PAR :N DX :V 1.5) (:PAR :N DY :V 1.2) (:PAR :N LIGHT-LEVEL) (:PAR :N CD_LO)  )) ( (ENCLOSING-ELEMENT :N WALL_3)(:ADD (CE-WINDOW :N \"Window\" :T WINDOW)  (:PAR :N X :V 5.065) (:PAR :N Y :V 0.8) (:PAR :N DX :V 1.5) (:PAR :N DY :V 1.2) (:PAR :N LIGHT-LEVEL) (:PAR :N CD_LO)  )) ( (ENCLOSING-ELEMENT :N WALL_4)(:ADD (CE-WINDOW :N \"Window\" :T WINDOW)  (:PAR :N X :V 4.385) (:PAR :N Y :V 0.8) (:PAR :N DX :V 1.5) (:PAR :N DY :V 1.2) (:PAR :N LIGHT-LEVEL) (:PAR :N CD_LO)  )) ( (ENCLOSING-ELEMENT :N WALL_5)(:ADD (CE-WINDOW :N \"Window\" :T WINDOW)  (:PAR :N X :V 8.285) (:PAR :N Y :V 0.8) (:PAR :N DX :V 1.5) (:PAR :N DY :V 1.2) (:PAR :N LIGHT-LEVEL) (:PAR :N CD_LO)  )) ( (ENCLOSING-ELEMENT :N WALL_6)(:ADD (CE-WINDOW :N \"Window\" :T WINDOW)  (:PAR :N X :V 9.5435) (:PAR :N Y :V 0.8) (:PAR :N DX :V 1.5) (:PAR :N DY :V 1.2) (:PAR :N LIGHT-LEVEL) (:PAR :N CD_LO)  )) ( (ENCLOSING-ELEMENT :N WALL_7)(:ADD (CE-WINDOW :N \"Window\" :T WINDOW)  (:PAR :N X :V 2.5215) (:PAR :N Y :V 0.8) (:PAR :N DX :V 1.5) (:PAR :N DY :V 1.2) (:PAR :N LIGHT-LEVEL) (:PAR :N CD_LO)  )) ( (ENCLOSING-ELEMENT :N WALL_8)(:ADD (CE-WINDOW :N \"Window\" :T WINDOW)  (:PAR :N X :V 3.6100000000000003) (:PAR :N Y :V 0.8) (:PAR :N DX :V 1.5) (:PAR :N DY :V 1.2) (:PAR :N LIGHT-LEVEL) (:PAR :N CD_LO)  )) ( (ENCLOSING-ELEMENT :N WALL_9)(:ADD (CE-WINDOW :N \"Window\" :T WINDOW)  (:PAR :N X :V 2.5088) (:PAR :N Y :V 0.8) (:PAR :N DX :V 1.5) (:PAR :N DY :V 1.2) (:PAR :N LIGHT-LEVEL) (:PAR :N CD_LO)  )) ( (ENCLOSING-ELEMENT :N WALL_10)(:ADD (CE-WINDOW :N \"Window\" :T WINDOW)  (:PAR :N X :V 1.25) (:PAR :N Y :V 0.8) (:PAR :N DX :V 1.5) (:PAR :N DY :V 1.2) (:PAR :N LIGHT-LEVEL) (:PAR :N CD_LO)  )) ( (ENCLOSING-ELEMENT :N WALL_11)(:ADD (CE-WINDOW :N \"Window\" :T WINDOW)  (:PAR :N X :V 2.49) (:PAR :N Y :V 0.8) (:PAR :N DX :V 1.5) (:PAR :N DY :V 1.2) (:PAR :N LIGHT-LEVEL) (:PAR :N CD_LO)  )) ( (ENCLOSING-ELEMENT :N WALL_13)(:ADD (CE-WINDOW :N \"Window\" :T WINDOW)  (:PAR :N X :V 14.75) (:PAR :N Y :V 0.8) (:PAR :N DX :V 1.5) (:PAR :N DY :V 1.2) (:PAR :N LIGHT-LEVEL) (:PAR :N CD_LO)  )(:ADD (CE-WINDOW :N \"DetWin1\" :T DET-WINDOW)  (:PAR :N X :V 26.015) (:PAR :N Y :V 0.8) (:PAR :N DX :V 3) (:PAR :N DY :V 1.8) (:RES :N GLAZING :V \"Single Clear (WIN7)\") (:PAR :N LIGHT-LEVEL) (:PAR :N CD_LO)  )) ( (ENCLOSING-ELEMENT :N WALL_14)(:ADD (CE-WINDOW :N \"Window\" :T WINDOW)  (:PAR :N X :V 1.25) (:PAR :N Y :V 0.8) (:PAR :N DX :V 1.5) (:PAR :N DY :V 1.2) (:PAR :N LIGHT-LEVEL) (:PAR :N CD_LO)  )) ( (ENCLOSING-ELEMENT :N WALL_15)(:ADD (CE-WINDOW :N \"Window\" :T WINDOW)  (:PAR :N X :V 4.193) (:PAR :N Y :V 0.8) (:PAR :N DX :V 1.5) (:PAR :N DY :V 1.2) (:PAR :N LIGHT-LEVEL) (:PAR :N CD_LO)  )) ( (ENCLOSING-ELEMENT :N WALL_16)(:ADD (CE-WINDOW :N \"Window\" :T WINDOW)  (:PAR :N X :V 3.527) (:PAR :N Y :V 0.8) (:PAR :N DX :V 1.5) (:PAR :N DY :V 1.2) (:PAR :N LIGHT-LEVEL) (:PAR :N CD_LO)  )) ( (ENCLOSING-ELEMENT :N WALL_17)(:ADD (CE-WINDOW :N \"Window\" :T WINDOW)  (:PAR :N X :V 6.1995) (:PAR :N Y :V 0.8) (:PAR :N DX :V 1.5) (:PAR :N DY :V 1.2) (:PAR :N LIGHT-LEVEL) (:PAR :N CD_LO)  )) ( (ENCLOSING-ELEMENT :N WALL_18)(:ADD (CE-WINDOW :N \"Window\" :T WINDOW)  (:PAR :N X :V 4.825) (:PAR :N Y :V 0.8) (:PAR :N DX :V 1.5) (:PAR :N DY :V 1.2) (:PAR :N LIGHT-LEVEL) (:PAR :N CD_LO)  )) ( (ENCLOSING-ELEMENT :N WALL_19)(:ADD (CE-WINDOW :N \"Window\" :T WINDOW)  (:PAR :N X :V 4.24) (:PAR :N Y :V 0.8) (:PAR :N DX :V 1.5) (:PAR :N DY :V 1.2) (:PAR :N LIGHT-LEVEL) (:PAR :N CD_LO)  ))( (ENCLOSING-ELEMENT :N WALL_6)(:ADD (OPENING :N \"Door\" :T OPENING) (:PAR :N X :V 3.21) (:PAR :N CD_LO))))\n",
      "((CE-ZONE :N \"Zone 5\")( (AGGREGATE :N THERMAL-BRIDGES) (:PAR :N WIN-PERIM-LEN)(:PAR :N WIN-PERIM-LEN)(:PAR :N WIN-PERIM-LEN)(:PAR :N WIN-PERIM-LEN)(:PAR :N WIN-PERIM-LEN)(:PAR :N WIN-PERIM-LEN)(:PAR :N WIN-PERIM-LEN)(:PAR :N WIN-PERIM-LEN)(:PAR :N WIN-PERIM-LEN)(:PAR :N WIN-PERIM-LEN)(:PAR :N WIN-PERIM-LEN)(:PAR :N WIN-PERIM-LEN)(:PAR :N WIN-PERIM-LEN)(:PAR :N WIN-PERIM-LEN)(:PAR :N WIN-PERIM-LEN)(:PAR :N WIN-PERIM-LEN)(:PAR :N WIN-PERIM-LEN)(:PAR :N WIN-PERIM-LEN)(:PAR :N WIN-PERIM-LEN)(:PAR :N DOOR-PERIM-LEN))( (ENCLOSING-ELEMENT :N WALL_1)(:ADD (CE-WINDOW :N \"Window\" :T WINDOW)  (:PAR :N X :V 1.25) (:PAR :N Y :V 0.8) (:PAR :N DX :V 1.5) (:PAR :N DY :V 1.2) (:PAR :N LIGHT-LEVEL) (:PAR :N CD_LO)  )) ( (ENCLOSING-ELEMENT :N WALL_2)(:ADD (CE-WINDOW :N \"Window\" :T WINDOW)  (:PAR :N X :V 3.0) (:PAR :N Y :V 0.8) (:PAR :N DX :V 1.5) (:PAR :N DY :V 1.2) (:PAR :N LIGHT-LEVEL) (:PAR :N CD_LO)  )) ( (ENCLOSING-ELEMENT :N WALL_3)(:ADD (CE-WINDOW :N \"Window\" :T WINDOW)  (:PAR :N X :V 5.065) (:PAR :N Y :V 0.8) (:PAR :N DX :V 1.5) (:PAR :N DY :V 1.2) (:PAR :N LIGHT-LEVEL) (:PAR :N CD_LO)  )) ( (ENCLOSING-ELEMENT :N WALL_4)(:ADD (CE-WINDOW :N \"Window\" :T WINDOW)  (:PAR :N X :V 4.385) (:PAR :N Y :V 0.8) (:PAR :N DX :V 1.5) (:PAR :N DY :V 1.2) (:PAR :N LIGHT-LEVEL) (:PAR :N CD_LO)  )) ( (ENCLOSING-ELEMENT :N WALL_5)(:ADD (CE-WINDOW :N \"Window\" :T WINDOW)  (:PAR :N X :V 8.285) (:PAR :N Y :V 0.8) (:PAR :N DX :V 1.5) (:PAR :N DY :V 1.2) (:PAR :N LIGHT-LEVEL) (:PAR :N CD_LO)  )) ( (ENCLOSING-ELEMENT :N WALL_6)(:ADD (CE-WINDOW :N \"Window\" :T WINDOW)  (:PAR :N X :V 9.5435) (:PAR :N Y :V 0.8) (:PAR :N DX :V 1.5) (:PAR :N DY :V 1.2) (:PAR :N LIGHT-LEVEL) (:PAR :N CD_LO)  )) ( (ENCLOSING-ELEMENT :N WALL_7)(:ADD (CE-WINDOW :N \"Window\" :T WINDOW)  (:PAR :N X :V 2.5215) (:PAR :N Y :V 0.8) (:PAR :N DX :V 1.5) (:PAR :N DY :V 1.2) (:PAR :N LIGHT-LEVEL) (:PAR :N CD_LO)  )) ( (ENCLOSING-ELEMENT :N WALL_8)(:ADD (CE-WINDOW :N \"Window\" :T WINDOW)  (:PAR :N X :V 3.6100000000000003) (:PAR :N Y :V 0.8) (:PAR :N DX :V 1.5) (:PAR :N DY :V 1.2) (:PAR :N LIGHT-LEVEL) (:PAR :N CD_LO)  )) ( (ENCLOSING-ELEMENT :N WALL_9)(:ADD (CE-WINDOW :N \"Window\" :T WINDOW)  (:PAR :N X :V 2.5088) (:PAR :N Y :V 0.8) (:PAR :N DX :V 1.5) (:PAR :N DY :V 1.2) (:PAR :N LIGHT-LEVEL) (:PAR :N CD_LO)  )) ( (ENCLOSING-ELEMENT :N WALL_10)(:ADD (CE-WINDOW :N \"Window\" :T WINDOW)  (:PAR :N X :V 1.25) (:PAR :N Y :V 0.8) (:PAR :N DX :V 1.5) (:PAR :N DY :V 1.2) (:PAR :N LIGHT-LEVEL) (:PAR :N CD_LO)  )) ( (ENCLOSING-ELEMENT :N WALL_11)(:ADD (CE-WINDOW :N \"Window\" :T WINDOW)  (:PAR :N X :V 2.49) (:PAR :N Y :V 0.8) (:PAR :N DX :V 1.5) (:PAR :N DY :V 1.2) (:PAR :N LIGHT-LEVEL) (:PAR :N CD_LO)  )) ( (ENCLOSING-ELEMENT :N WALL_13)(:ADD (CE-WINDOW :N \"Window\" :T WINDOW)  (:PAR :N X :V 14.75) (:PAR :N Y :V 0.8) (:PAR :N DX :V 1.5) (:PAR :N DY :V 1.2) (:PAR :N LIGHT-LEVEL) (:PAR :N CD_LO)  )(:ADD (CE-WINDOW :N \"DetWin1\" :T DET-WINDOW)  (:PAR :N X :V 26.015) (:PAR :N Y :V 0.8) (:PAR :N DX :V 3) (:PAR :N DY :V 1.8) (:RES :N GLAZING :V \"Single Clear (WIN7)\") (:PAR :N LIGHT-LEVEL) (:PAR :N CD_LO)  )) ( (ENCLOSING-ELEMENT :N WALL_14)(:ADD (CE-WINDOW :N \"Window\" :T WINDOW)  (:PAR :N X :V 1.25) (:PAR :N Y :V 0.8) (:PAR :N DX :V 1.5) (:PAR :N DY :V 1.2) (:PAR :N LIGHT-LEVEL) (:PAR :N CD_LO)  )) ( (ENCLOSING-ELEMENT :N WALL_15)(:ADD (CE-WINDOW :N \"Window\" :T WINDOW)  (:PAR :N X :V 4.193) (:PAR :N Y :V 0.8) (:PAR :N DX :V 1.5) (:PAR :N DY :V 1.2) (:PAR :N LIGHT-LEVEL) (:PAR :N CD_LO)  )) ( (ENCLOSING-ELEMENT :N WALL_16)(:ADD (CE-WINDOW :N \"Window\" :T WINDOW)  (:PAR :N X :V 3.527) (:PAR :N Y :V 0.8) (:PAR :N DX :V 1.5) (:PAR :N DY :V 1.2) (:PAR :N LIGHT-LEVEL) (:PAR :N CD_LO)  )) ( (ENCLOSING-ELEMENT :N WALL_17)(:ADD (CE-WINDOW :N \"Window\" :T WINDOW)  (:PAR :N X :V 6.1995) (:PAR :N Y :V 0.8) (:PAR :N DX :V 1.5) (:PAR :N DY :V 1.2) (:PAR :N LIGHT-LEVEL) (:PAR :N CD_LO)  )) ( (ENCLOSING-ELEMENT :N WALL_18)(:ADD (CE-WINDOW :N \"Window\" :T WINDOW)  (:PAR :N X :V 4.825) (:PAR :N Y :V 0.8) (:PAR :N DX :V 1.5) (:PAR :N DY :V 1.2) (:PAR :N LIGHT-LEVEL) (:PAR :N CD_LO)  )) ( (ENCLOSING-ELEMENT :N WALL_19)(:ADD (CE-WINDOW :N \"Window\" :T WINDOW)  (:PAR :N X :V 4.24) (:PAR :N Y :V 0.8) (:PAR :N DX :V 1.5) (:PAR :N DY :V 1.2) (:PAR :N LIGHT-LEVEL) (:PAR :N CD_LO)  ))( (ENCLOSING-ELEMENT :N WALL_6)(:ADD (OPENING :N \"Door\" :T OPENING) (:PAR :N X :V 3.21) (:PAR :N CD_LO))))\n",
      "Generated script:  (:UPDATE [@]  ((CE-ZONE :N \"Zone 1\")( (AGGREGATE :N THERMAL-BRIDGES) (:PAR :N WIN-PERIM-LEN)(:PAR :N WIN-PERIM-LEN)(:PAR :N WIN-PERIM-LEN)(:PAR :N WIN-PERIM-LEN)(:PAR :N WIN-PERIM-LEN)(:PAR :N WIN-PERIM-LEN)(:PAR :N WIN-PERIM-LEN)(:PAR :N WIN-PERIM-LEN)(:PAR :N WIN-PERIM-LEN)(:PAR :N WIN-PERIM-LEN)(:PAR :N WIN-PERIM-LEN)(:PAR :N WIN-PERIM-LEN)(:PAR :N WIN-PERIM-LEN)(:PAR :N WIN-PERIM-LEN)(:PAR :N WIN-PERIM-LEN)(:PAR :N WIN-PERIM-LEN)(:PAR :N WIN-PERIM-LEN)(:PAR :N WIN-PERIM-LEN)(:PAR :N WIN-PERIM-LEN)(:PAR :N DOOR-PERIM-LEN))( (ENCLOSING-ELEMENT :N WALL_1)(:ADD (CE-WINDOW :N \"Window\" :T WINDOW)  (:PAR :N X :V 1.25) (:PAR :N Y :V 0.8) (:PAR :N DX :V 1.5) (:PAR :N DY :V 1.2) (:PAR :N LIGHT-LEVEL) (:PAR :N CD_LO)  )) ( (ENCLOSING-ELEMENT :N WALL_2)(:ADD (CE-WINDOW :N \"Window\" :T WINDOW)  (:PAR :N X :V 3.0) (:PAR :N Y :V 0.8) (:PAR :N DX :V 1.5) (:PAR :N DY :V 1.2) (:PAR :N LIGHT-LEVEL) (:PAR :N CD_LO)  )) ( (ENCLOSING-ELEMENT :N WALL_3)(:ADD (CE-WINDOW :N \"Window\" :T WINDOW)  (:PAR :N X :V 5.065) (:PAR :N Y :V 0.8) (:PAR :N DX :V 1.5) (:PAR :N DY :V 1.2) (:PAR :N LIGHT-LEVEL) (:PAR :N CD_LO)  )) ( (ENCLOSING-ELEMENT :N WALL_4)(:ADD (CE-WINDOW :N \"Window\" :T WINDOW)  (:PAR :N X :V 4.385) (:PAR :N Y :V 0.8) (:PAR :N DX :V 1.5) (:PAR :N DY :V 1.2) (:PAR :N LIGHT-LEVEL) (:PAR :N CD_LO)  )) ( (ENCLOSING-ELEMENT :N WALL_5)(:ADD (CE-WINDOW :N \"Window\" :T WINDOW)  (:PAR :N X :V 8.285) (:PAR :N Y :V 0.8) (:PAR :N DX :V 1.5) (:PAR :N DY :V 1.2) (:PAR :N LIGHT-LEVEL) (:PAR :N CD_LO)  )) ( (ENCLOSING-ELEMENT :N WALL_6)(:ADD (CE-WINDOW :N \"Window\" :T WINDOW)  (:PAR :N X :V 9.5435) (:PAR :N Y :V 0.8) (:PAR :N DX :V 1.5) (:PAR :N DY :V 1.2) (:PAR :N LIGHT-LEVEL) (:PAR :N CD_LO)  )) ( (ENCLOSING-ELEMENT :N WALL_7)(:ADD (CE-WINDOW :N \"Window\" :T WINDOW)  (:PAR :N X :V 2.5215) (:PAR :N Y :V 0.8) (:PAR :N DX :V 1.5) (:PAR :N DY :V 1.2) (:PAR :N LIGHT-LEVEL) (:PAR :N CD_LO)  )) ( (ENCLOSING-ELEMENT :N WALL_8)(:ADD (CE-WINDOW :N \"Window\" :T WINDOW)  (:PAR :N X :V 3.6100000000000003) (:PAR :N Y :V 0.8) (:PAR :N DX :V 1.5) (:PAR :N DY :V 1.2) (:PAR :N LIGHT-LEVEL) (:PAR :N CD_LO)  )) ( (ENCLOSING-ELEMENT :N WALL_9)(:ADD (CE-WINDOW :N \"Window\" :T WINDOW)  (:PAR :N X :V 2.5088) (:PAR :N Y :V 0.8) (:PAR :N DX :V 1.5) (:PAR :N DY :V 1.2) (:PAR :N LIGHT-LEVEL) (:PAR :N CD_LO)  )) ( (ENCLOSING-ELEMENT :N WALL_10)(:ADD (CE-WINDOW :N \"Window\" :T WINDOW)  (:PAR :N X :V 1.25) (:PAR :N Y :V 0.8) (:PAR :N DX :V 1.5) (:PAR :N DY :V 1.2) (:PAR :N LIGHT-LEVEL) (:PAR :N CD_LO)  )) ( (ENCLOSING-ELEMENT :N WALL_11)(:ADD (CE-WINDOW :N \"Window\" :T WINDOW)  (:PAR :N X :V 2.49) (:PAR :N Y :V 0.8) (:PAR :N DX :V 1.5) (:PAR :N DY :V 1.2) (:PAR :N LIGHT-LEVEL) (:PAR :N CD_LO)  )) ( (ENCLOSING-ELEMENT :N WALL_13)(:ADD (CE-WINDOW :N \"Window\" :T WINDOW)  (:PAR :N X :V 14.75) (:PAR :N Y :V 0.8) (:PAR :N DX :V 1.5) (:PAR :N DY :V 1.2) (:PAR :N LIGHT-LEVEL) (:PAR :N CD_LO)  )(:ADD (CE-WINDOW :N \"DetWin1\" :T DET-WINDOW)  (:PAR :N X :V 26.015) (:PAR :N Y :V 0.8) (:PAR :N DX :V 3) (:PAR :N DY :V 1.8) (:RES :N GLAZING :V \"Single Clear (WIN7)\") (:PAR :N LIGHT-LEVEL) (:PAR :N CD_LO)  )) ( (ENCLOSING-ELEMENT :N WALL_14)(:ADD (CE-WINDOW :N \"Window\" :T WINDOW)  (:PAR :N X :V 1.25) (:PAR :N Y :V 0.8) (:PAR :N DX :V 1.5) (:PAR :N DY :V 1.2) (:PAR :N LIGHT-LEVEL) (:PAR :N CD_LO)  )) ( (ENCLOSING-ELEMENT :N WALL_15)(:ADD (CE-WINDOW :N \"Window\" :T WINDOW)  (:PAR :N X :V 4.193) (:PAR :N Y :V 0.8) (:PAR :N DX :V 1.5) (:PAR :N DY :V 1.2) (:PAR :N LIGHT-LEVEL) (:PAR :N CD_LO)  )) ( (ENCLOSING-ELEMENT :N WALL_16)(:ADD (CE-WINDOW :N \"Window\" :T WINDOW)  (:PAR :N X :V 3.527) (:PAR :N Y :V 0.8) (:PAR :N DX :V 1.5) (:PAR :N DY :V 1.2) (:PAR :N LIGHT-LEVEL) (:PAR :N CD_LO)  )) ( (ENCLOSING-ELEMENT :N WALL_17)(:ADD (CE-WINDOW :N \"Window\" :T WINDOW)  (:PAR :N X :V 6.1995) (:PAR :N Y :V 0.8) (:PAR :N DX :V 1.5) (:PAR :N DY :V 1.2) (:PAR :N LIGHT-LEVEL) (:PAR :N CD_LO)  )) ( (ENCLOSING-ELEMENT :N WALL_18)(:ADD (CE-WINDOW :N \"Window\" :T WINDOW)  (:PAR :N X :V 4.825) (:PAR :N Y :V 0.8) (:PAR :N DX :V 1.5) (:PAR :N DY :V 1.2) (:PAR :N LIGHT-LEVEL) (:PAR :N CD_LO)  )) ( (ENCLOSING-ELEMENT :N WALL_19)(:ADD (CE-WINDOW :N \"Window\" :T WINDOW)  (:PAR :N X :V 4.24) (:PAR :N Y :V 0.8) (:PAR :N DX :V 1.5) (:PAR :N DY :V 1.2) (:PAR :N LIGHT-LEVEL) (:PAR :N CD_LO)  ))( (ENCLOSING-ELEMENT :N WALL_6)(:ADD (OPENING :N \"Door\" :T OPENING) (:PAR :N X :V 3.21) (:PAR :N CD_LO)))) ((CE-ZONE :N \"Zone 2\")( (AGGREGATE :N THERMAL-BRIDGES) (:PAR :N WIN-PERIM-LEN)(:PAR :N WIN-PERIM-LEN)(:PAR :N WIN-PERIM-LEN)(:PAR :N WIN-PERIM-LEN)(:PAR :N WIN-PERIM-LEN)(:PAR :N WIN-PERIM-LEN)(:PAR :N WIN-PERIM-LEN)(:PAR :N WIN-PERIM-LEN)(:PAR :N WIN-PERIM-LEN)(:PAR :N WIN-PERIM-LEN)(:PAR :N WIN-PERIM-LEN)(:PAR :N WIN-PERIM-LEN)(:PAR :N WIN-PERIM-LEN)(:PAR :N WIN-PERIM-LEN)(:PAR :N WIN-PERIM-LEN)(:PAR :N WIN-PERIM-LEN)(:PAR :N WIN-PERIM-LEN)(:PAR :N WIN-PERIM-LEN)(:PAR :N WIN-PERIM-LEN)(:PAR :N DOOR-PERIM-LEN))( (ENCLOSING-ELEMENT :N WALL_1)(:ADD (CE-WINDOW :N \"Window\" :T WINDOW)  (:PAR :N X :V 1.25) (:PAR :N Y :V 0.8) (:PAR :N DX :V 1.5) (:PAR :N DY :V 1.2) (:PAR :N LIGHT-LEVEL) (:PAR :N CD_LO)  )) ( (ENCLOSING-ELEMENT :N WALL_2)(:ADD (CE-WINDOW :N \"Window\" :T WINDOW)  (:PAR :N X :V 3.0) (:PAR :N Y :V 0.8) (:PAR :N DX :V 1.5) (:PAR :N DY :V 1.2) (:PAR :N LIGHT-LEVEL) (:PAR :N CD_LO)  )) ( (ENCLOSING-ELEMENT :N WALL_3)(:ADD (CE-WINDOW :N \"Window\" :T WINDOW)  (:PAR :N X :V 5.065) (:PAR :N Y :V 0.8) (:PAR :N DX :V 1.5) (:PAR :N DY :V 1.2) (:PAR :N LIGHT-LEVEL) (:PAR :N CD_LO)  )) ( (ENCLOSING-ELEMENT :N WALL_4)(:ADD (CE-WINDOW :N \"Window\" :T WINDOW)  (:PAR :N X :V 4.385) (:PAR :N Y :V 0.8) (:PAR :N DX :V 1.5) (:PAR :N DY :V 1.2) (:PAR :N LIGHT-LEVEL) (:PAR :N CD_LO)  )) ( (ENCLOSING-ELEMENT :N WALL_5)(:ADD (CE-WINDOW :N \"Window\" :T WINDOW)  (:PAR :N X :V 8.285) (:PAR :N Y :V 0.8) (:PAR :N DX :V 1.5) (:PAR :N DY :V 1.2) (:PAR :N LIGHT-LEVEL) (:PAR :N CD_LO)  )) ( (ENCLOSING-ELEMENT :N WALL_6)(:ADD (CE-WINDOW :N \"Window\" :T WINDOW)  (:PAR :N X :V 9.5435) (:PAR :N Y :V 0.8) (:PAR :N DX :V 1.5) (:PAR :N DY :V 1.2) (:PAR :N LIGHT-LEVEL) (:PAR :N CD_LO)  )) ( (ENCLOSING-ELEMENT :N WALL_7)(:ADD (CE-WINDOW :N \"Window\" :T WINDOW)  (:PAR :N X :V 2.5215) (:PAR :N Y :V 0.8) (:PAR :N DX :V 1.5) (:PAR :N DY :V 1.2) (:PAR :N LIGHT-LEVEL) (:PAR :N CD_LO)  )) ( (ENCLOSING-ELEMENT :N WALL_8)(:ADD (CE-WINDOW :N \"Window\" :T WINDOW)  (:PAR :N X :V 3.6100000000000003) (:PAR :N Y :V 0.8) (:PAR :N DX :V 1.5) (:PAR :N DY :V 1.2) (:PAR :N LIGHT-LEVEL) (:PAR :N CD_LO)  )) ( (ENCLOSING-ELEMENT :N WALL_9)(:ADD (CE-WINDOW :N \"Window\" :T WINDOW)  (:PAR :N X :V 2.5088) (:PAR :N Y :V 0.8) (:PAR :N DX :V 1.5) (:PAR :N DY :V 1.2) (:PAR :N LIGHT-LEVEL) (:PAR :N CD_LO)  )) ( (ENCLOSING-ELEMENT :N WALL_10)(:ADD (CE-WINDOW :N \"Window\" :T WINDOW)  (:PAR :N X :V 1.25) (:PAR :N Y :V 0.8) (:PAR :N DX :V 1.5) (:PAR :N DY :V 1.2) (:PAR :N LIGHT-LEVEL) (:PAR :N CD_LO)  )) ( (ENCLOSING-ELEMENT :N WALL_11)(:ADD (CE-WINDOW :N \"Window\" :T WINDOW)  (:PAR :N X :V 2.49) (:PAR :N Y :V 0.8) (:PAR :N DX :V 1.5) (:PAR :N DY :V 1.2) (:PAR :N LIGHT-LEVEL) (:PAR :N CD_LO)  )) ( (ENCLOSING-ELEMENT :N WALL_13)(:ADD (CE-WINDOW :N \"Window\" :T WINDOW)  (:PAR :N X :V 14.75) (:PAR :N Y :V 0.8) (:PAR :N DX :V 1.5) (:PAR :N DY :V 1.2) (:PAR :N LIGHT-LEVEL) (:PAR :N CD_LO)  )(:ADD (CE-WINDOW :N \"DetWin1\" :T DET-WINDOW)  (:PAR :N X :V 26.015) (:PAR :N Y :V 0.8) (:PAR :N DX :V 3) (:PAR :N DY :V 1.8) (:RES :N GLAZING :V \"Single Clear (WIN7)\") (:PAR :N LIGHT-LEVEL) (:PAR :N CD_LO)  )) ( (ENCLOSING-ELEMENT :N WALL_14)(:ADD (CE-WINDOW :N \"Window\" :T WINDOW)  (:PAR :N X :V 1.25) (:PAR :N Y :V 0.8) (:PAR :N DX :V 1.5) (:PAR :N DY :V 1.2) (:PAR :N LIGHT-LEVEL) (:PAR :N CD_LO)  )) ( (ENCLOSING-ELEMENT :N WALL_15)(:ADD (CE-WINDOW :N \"Window\" :T WINDOW)  (:PAR :N X :V 4.193) (:PAR :N Y :V 0.8) (:PAR :N DX :V 1.5) (:PAR :N DY :V 1.2) (:PAR :N LIGHT-LEVEL) (:PAR :N CD_LO)  )) ( (ENCLOSING-ELEMENT :N WALL_16)(:ADD (CE-WINDOW :N \"Window\" :T WINDOW)  (:PAR :N X :V 3.527) (:PAR :N Y :V 0.8) (:PAR :N DX :V 1.5) (:PAR :N DY :V 1.2) (:PAR :N LIGHT-LEVEL) (:PAR :N CD_LO)  )) ( (ENCLOSING-ELEMENT :N WALL_17)(:ADD (CE-WINDOW :N \"Window\" :T WINDOW)  (:PAR :N X :V 6.1995) (:PAR :N Y :V 0.8) (:PAR :N DX :V 1.5) (:PAR :N DY :V 1.2) (:PAR :N LIGHT-LEVEL) (:PAR :N CD_LO)  )) ( (ENCLOSING-ELEMENT :N WALL_18)(:ADD (CE-WINDOW :N \"Window\" :T WINDOW)  (:PAR :N X :V 4.825) (:PAR :N Y :V 0.8) (:PAR :N DX :V 1.5) (:PAR :N DY :V 1.2) (:PAR :N LIGHT-LEVEL) (:PAR :N CD_LO)  )) ( (ENCLOSING-ELEMENT :N WALL_19)(:ADD (CE-WINDOW :N \"Window\" :T WINDOW)  (:PAR :N X :V 4.24) (:PAR :N Y :V 0.8) (:PAR :N DX :V 1.5) (:PAR :N DY :V 1.2) (:PAR :N LIGHT-LEVEL) (:PAR :N CD_LO)  ))( (ENCLOSING-ELEMENT :N WALL_6)(:ADD (OPENING :N \"Door\" :T OPENING) (:PAR :N X :V 3.21) (:PAR :N CD_LO)))) ((CE-ZONE :N \"Zone 3\")( (AGGREGATE :N THERMAL-BRIDGES) (:PAR :N WIN-PERIM-LEN)(:PAR :N WIN-PERIM-LEN)(:PAR :N WIN-PERIM-LEN)(:PAR :N WIN-PERIM-LEN)(:PAR :N WIN-PERIM-LEN)(:PAR :N WIN-PERIM-LEN)(:PAR :N WIN-PERIM-LEN)(:PAR :N WIN-PERIM-LEN)(:PAR :N WIN-PERIM-LEN)(:PAR :N WIN-PERIM-LEN)(:PAR :N WIN-PERIM-LEN)(:PAR :N WIN-PERIM-LEN)(:PAR :N WIN-PERIM-LEN)(:PAR :N WIN-PERIM-LEN)(:PAR :N WIN-PERIM-LEN)(:PAR :N WIN-PERIM-LEN)(:PAR :N WIN-PERIM-LEN)(:PAR :N WIN-PERIM-LEN)(:PAR :N WIN-PERIM-LEN)(:PAR :N DOOR-PERIM-LEN))( (ENCLOSING-ELEMENT :N WALL_1)(:ADD (CE-WINDOW :N \"Window\" :T WINDOW)  (:PAR :N X :V 1.25) (:PAR :N Y :V 0.8) (:PAR :N DX :V 1.5) (:PAR :N DY :V 1.2) (:PAR :N LIGHT-LEVEL) (:PAR :N CD_LO)  )) ( (ENCLOSING-ELEMENT :N WALL_2)(:ADD (CE-WINDOW :N \"Window\" :T WINDOW)  (:PAR :N X :V 3.0) (:PAR :N Y :V 0.8) (:PAR :N DX :V 1.5) (:PAR :N DY :V 1.2) (:PAR :N LIGHT-LEVEL) (:PAR :N CD_LO)  )) ( (ENCLOSING-ELEMENT :N WALL_3)(:ADD (CE-WINDOW :N \"Window\" :T WINDOW)  (:PAR :N X :V 5.065) (:PAR :N Y :V 0.8) (:PAR :N DX :V 1.5) (:PAR :N DY :V 1.2) (:PAR :N LIGHT-LEVEL) (:PAR :N CD_LO)  )) ( (ENCLOSING-ELEMENT :N WALL_4)(:ADD (CE-WINDOW :N \"Window\" :T WINDOW)  (:PAR :N X :V 4.385) (:PAR :N Y :V 0.8) (:PAR :N DX :V 1.5) (:PAR :N DY :V 1.2) (:PAR :N LIGHT-LEVEL) (:PAR :N CD_LO)  )) ( (ENCLOSING-ELEMENT :N WALL_5)(:ADD (CE-WINDOW :N \"Window\" :T WINDOW)  (:PAR :N X :V 8.285) (:PAR :N Y :V 0.8) (:PAR :N DX :V 1.5) (:PAR :N DY :V 1.2) (:PAR :N LIGHT-LEVEL) (:PAR :N CD_LO)  )) ( (ENCLOSING-ELEMENT :N WALL_6)(:ADD (CE-WINDOW :N \"Window\" :T WINDOW)  (:PAR :N X :V 9.5435) (:PAR :N Y :V 0.8) (:PAR :N DX :V 1.5) (:PAR :N DY :V 1.2) (:PAR :N LIGHT-LEVEL) (:PAR :N CD_LO)  )) ( (ENCLOSING-ELEMENT :N WALL_7)(:ADD (CE-WINDOW :N \"Window\" :T WINDOW)  (:PAR :N X :V 2.5215) (:PAR :N Y :V 0.8) (:PAR :N DX :V 1.5) (:PAR :N DY :V 1.2) (:PAR :N LIGHT-LEVEL) (:PAR :N CD_LO)  )) ( (ENCLOSING-ELEMENT :N WALL_8)(:ADD (CE-WINDOW :N \"Window\" :T WINDOW)  (:PAR :N X :V 3.6100000000000003) (:PAR :N Y :V 0.8) (:PAR :N DX :V 1.5) (:PAR :N DY :V 1.2) (:PAR :N LIGHT-LEVEL) (:PAR :N CD_LO)  )) ( (ENCLOSING-ELEMENT :N WALL_9)(:ADD (CE-WINDOW :N \"Window\" :T WINDOW)  (:PAR :N X :V 2.5088) (:PAR :N Y :V 0.8) (:PAR :N DX :V 1.5) (:PAR :N DY :V 1.2) (:PAR :N LIGHT-LEVEL) (:PAR :N CD_LO)  )) ( (ENCLOSING-ELEMENT :N WALL_10)(:ADD (CE-WINDOW :N \"Window\" :T WINDOW)  (:PAR :N X :V 1.25) (:PAR :N Y :V 0.8) (:PAR :N DX :V 1.5) (:PAR :N DY :V 1.2) (:PAR :N LIGHT-LEVEL) (:PAR :N CD_LO)  )) ( (ENCLOSING-ELEMENT :N WALL_11)(:ADD (CE-WINDOW :N \"Window\" :T WINDOW)  (:PAR :N X :V 2.49) (:PAR :N Y :V 0.8) (:PAR :N DX :V 1.5) (:PAR :N DY :V 1.2) (:PAR :N LIGHT-LEVEL) (:PAR :N CD_LO)  )) ( (ENCLOSING-ELEMENT :N WALL_13)(:ADD (CE-WINDOW :N \"Window\" :T WINDOW)  (:PAR :N X :V 14.75) (:PAR :N Y :V 0.8) (:PAR :N DX :V 1.5) (:PAR :N DY :V 1.2) (:PAR :N LIGHT-LEVEL) (:PAR :N CD_LO)  )(:ADD (CE-WINDOW :N \"DetWin1\" :T DET-WINDOW)  (:PAR :N X :V 26.015) (:PAR :N Y :V 0.8) (:PAR :N DX :V 3) (:PAR :N DY :V 1.8) (:RES :N GLAZING :V \"Single Clear (WIN7)\") (:PAR :N LIGHT-LEVEL) (:PAR :N CD_LO)  )) ( (ENCLOSING-ELEMENT :N WALL_14)(:ADD (CE-WINDOW :N \"Window\" :T WINDOW)  (:PAR :N X :V 1.25) (:PAR :N Y :V 0.8) (:PAR :N DX :V 1.5) (:PAR :N DY :V 1.2) (:PAR :N LIGHT-LEVEL) (:PAR :N CD_LO)  )) ( (ENCLOSING-ELEMENT :N WALL_15)(:ADD (CE-WINDOW :N \"Window\" :T WINDOW)  (:PAR :N X :V 4.193) (:PAR :N Y :V 0.8) (:PAR :N DX :V 1.5) (:PAR :N DY :V 1.2) (:PAR :N LIGHT-LEVEL) (:PAR :N CD_LO)  )) ( (ENCLOSING-ELEMENT :N WALL_16)(:ADD (CE-WINDOW :N \"Window\" :T WINDOW)  (:PAR :N X :V 3.527) (:PAR :N Y :V 0.8) (:PAR :N DX :V 1.5) (:PAR :N DY :V 1.2) (:PAR :N LIGHT-LEVEL) (:PAR :N CD_LO)  )) ( (ENCLOSING-ELEMENT :N WALL_17)(:ADD (CE-WINDOW :N \"Window\" :T WINDOW)  (:PAR :N X :V 6.1995) (:PAR :N Y :V 0.8) (:PAR :N DX :V 1.5) (:PAR :N DY :V 1.2) (:PAR :N LIGHT-LEVEL) (:PAR :N CD_LO)  )) ( (ENCLOSING-ELEMENT :N WALL_18)(:ADD (CE-WINDOW :N \"Window\" :T WINDOW)  (:PAR :N X :V 4.825) (:PAR :N Y :V 0.8) (:PAR :N DX :V 1.5) (:PAR :N DY :V 1.2) (:PAR :N LIGHT-LEVEL) (:PAR :N CD_LO)  )) ( (ENCLOSING-ELEMENT :N WALL_19)(:ADD (CE-WINDOW :N \"Window\" :T WINDOW)  (:PAR :N X :V 4.24) (:PAR :N Y :V 0.8) (:PAR :N DX :V 1.5) (:PAR :N DY :V 1.2) (:PAR :N LIGHT-LEVEL) (:PAR :N CD_LO)  ))( (ENCLOSING-ELEMENT :N WALL_6)(:ADD (OPENING :N \"Door\" :T OPENING) (:PAR :N X :V 3.21) (:PAR :N CD_LO)))) ((CE-ZONE :N \"Zone 4\")( (AGGREGATE :N THERMAL-BRIDGES) (:PAR :N WIN-PERIM-LEN)(:PAR :N WIN-PERIM-LEN)(:PAR :N WIN-PERIM-LEN)(:PAR :N WIN-PERIM-LEN)(:PAR :N WIN-PERIM-LEN)(:PAR :N WIN-PERIM-LEN)(:PAR :N WIN-PERIM-LEN)(:PAR :N WIN-PERIM-LEN)(:PAR :N WIN-PERIM-LEN)(:PAR :N WIN-PERIM-LEN)(:PAR :N WIN-PERIM-LEN)(:PAR :N WIN-PERIM-LEN)(:PAR :N WIN-PERIM-LEN)(:PAR :N WIN-PERIM-LEN)(:PAR :N WIN-PERIM-LEN)(:PAR :N WIN-PERIM-LEN)(:PAR :N WIN-PERIM-LEN)(:PAR :N WIN-PERIM-LEN)(:PAR :N WIN-PERIM-LEN)(:PAR :N DOOR-PERIM-LEN))( (ENCLOSING-ELEMENT :N WALL_1)(:ADD (CE-WINDOW :N \"Window\" :T WINDOW)  (:PAR :N X :V 1.25) (:PAR :N Y :V 0.8) (:PAR :N DX :V 1.5) (:PAR :N DY :V 1.2) (:PAR :N LIGHT-LEVEL) (:PAR :N CD_LO)  )) ( (ENCLOSING-ELEMENT :N WALL_2)(:ADD (CE-WINDOW :N \"Window\" :T WINDOW)  (:PAR :N X :V 3.0) (:PAR :N Y :V 0.8) (:PAR :N DX :V 1.5) (:PAR :N DY :V 1.2) (:PAR :N LIGHT-LEVEL) (:PAR :N CD_LO)  )) ( (ENCLOSING-ELEMENT :N WALL_3)(:ADD (CE-WINDOW :N \"Window\" :T WINDOW)  (:PAR :N X :V 5.065) (:PAR :N Y :V 0.8) (:PAR :N DX :V 1.5) (:PAR :N DY :V 1.2) (:PAR :N LIGHT-LEVEL) (:PAR :N CD_LO)  )) ( (ENCLOSING-ELEMENT :N WALL_4)(:ADD (CE-WINDOW :N \"Window\" :T WINDOW)  (:PAR :N X :V 4.385) (:PAR :N Y :V 0.8) (:PAR :N DX :V 1.5) (:PAR :N DY :V 1.2) (:PAR :N LIGHT-LEVEL) (:PAR :N CD_LO)  )) ( (ENCLOSING-ELEMENT :N WALL_5)(:ADD (CE-WINDOW :N \"Window\" :T WINDOW)  (:PAR :N X :V 8.285) (:PAR :N Y :V 0.8) (:PAR :N DX :V 1.5) (:PAR :N DY :V 1.2) (:PAR :N LIGHT-LEVEL) (:PAR :N CD_LO)  )) ( (ENCLOSING-ELEMENT :N WALL_6)(:ADD (CE-WINDOW :N \"Window\" :T WINDOW)  (:PAR :N X :V 9.5435) (:PAR :N Y :V 0.8) (:PAR :N DX :V 1.5) (:PAR :N DY :V 1.2) (:PAR :N LIGHT-LEVEL) (:PAR :N CD_LO)  )) ( (ENCLOSING-ELEMENT :N WALL_7)(:ADD (CE-WINDOW :N \"Window\" :T WINDOW)  (:PAR :N X :V 2.5215) (:PAR :N Y :V 0.8) (:PAR :N DX :V 1.5) (:PAR :N DY :V 1.2) (:PAR :N LIGHT-LEVEL) (:PAR :N CD_LO)  )) ( (ENCLOSING-ELEMENT :N WALL_8)(:ADD (CE-WINDOW :N \"Window\" :T WINDOW)  (:PAR :N X :V 3.6100000000000003) (:PAR :N Y :V 0.8) (:PAR :N DX :V 1.5) (:PAR :N DY :V 1.2) (:PAR :N LIGHT-LEVEL) (:PAR :N CD_LO)  )) ( (ENCLOSING-ELEMENT :N WALL_9)(:ADD (CE-WINDOW :N \"Window\" :T WINDOW)  (:PAR :N X :V 2.5088) (:PAR :N Y :V 0.8) (:PAR :N DX :V 1.5) (:PAR :N DY :V 1.2) (:PAR :N LIGHT-LEVEL) (:PAR :N CD_LO)  )) ( (ENCLOSING-ELEMENT :N WALL_10)(:ADD (CE-WINDOW :N \"Window\" :T WINDOW)  (:PAR :N X :V 1.25) (:PAR :N Y :V 0.8) (:PAR :N DX :V 1.5) (:PAR :N DY :V 1.2) (:PAR :N LIGHT-LEVEL) (:PAR :N CD_LO)  )) ( (ENCLOSING-ELEMENT :N WALL_11)(:ADD (CE-WINDOW :N \"Window\" :T WINDOW)  (:PAR :N X :V 2.49) (:PAR :N Y :V 0.8) (:PAR :N DX :V 1.5) (:PAR :N DY :V 1.2) (:PAR :N LIGHT-LEVEL) (:PAR :N CD_LO)  )) ( (ENCLOSING-ELEMENT :N WALL_13)(:ADD (CE-WINDOW :N \"Window\" :T WINDOW)  (:PAR :N X :V 14.75) (:PAR :N Y :V 0.8) (:PAR :N DX :V 1.5) (:PAR :N DY :V 1.2) (:PAR :N LIGHT-LEVEL) (:PAR :N CD_LO)  )(:ADD (CE-WINDOW :N \"DetWin1\" :T DET-WINDOW)  (:PAR :N X :V 26.015) (:PAR :N Y :V 0.8) (:PAR :N DX :V 3) (:PAR :N DY :V 1.8) (:RES :N GLAZING :V \"Single Clear (WIN7)\") (:PAR :N LIGHT-LEVEL) (:PAR :N CD_LO)  )) ( (ENCLOSING-ELEMENT :N WALL_14)(:ADD (CE-WINDOW :N \"Window\" :T WINDOW)  (:PAR :N X :V 1.25) (:PAR :N Y :V 0.8) (:PAR :N DX :V 1.5) (:PAR :N DY :V 1.2) (:PAR :N LIGHT-LEVEL) (:PAR :N CD_LO)  )) ( (ENCLOSING-ELEMENT :N WALL_15)(:ADD (CE-WINDOW :N \"Window\" :T WINDOW)  (:PAR :N X :V 4.193) (:PAR :N Y :V 0.8) (:PAR :N DX :V 1.5) (:PAR :N DY :V 1.2) (:PAR :N LIGHT-LEVEL) (:PAR :N CD_LO)  )) ( (ENCLOSING-ELEMENT :N WALL_16)(:ADD (CE-WINDOW :N \"Window\" :T WINDOW)  (:PAR :N X :V 3.527) (:PAR :N Y :V 0.8) (:PAR :N DX :V 1.5) (:PAR :N DY :V 1.2) (:PAR :N LIGHT-LEVEL) (:PAR :N CD_LO)  )) ( (ENCLOSING-ELEMENT :N WALL_17)(:ADD (CE-WINDOW :N \"Window\" :T WINDOW)  (:PAR :N X :V 6.1995) (:PAR :N Y :V 0.8) (:PAR :N DX :V 1.5) (:PAR :N DY :V 1.2) (:PAR :N LIGHT-LEVEL) (:PAR :N CD_LO)  )) ( (ENCLOSING-ELEMENT :N WALL_18)(:ADD (CE-WINDOW :N \"Window\" :T WINDOW)  (:PAR :N X :V 4.825) (:PAR :N Y :V 0.8) (:PAR :N DX :V 1.5) (:PAR :N DY :V 1.2) (:PAR :N LIGHT-LEVEL) (:PAR :N CD_LO)  )) ( (ENCLOSING-ELEMENT :N WALL_19)(:ADD (CE-WINDOW :N \"Window\" :T WINDOW)  (:PAR :N X :V 4.24) (:PAR :N Y :V 0.8) (:PAR :N DX :V 1.5) (:PAR :N DY :V 1.2) (:PAR :N LIGHT-LEVEL) (:PAR :N CD_LO)  ))( (ENCLOSING-ELEMENT :N WALL_6)(:ADD (OPENING :N \"Door\" :T OPENING) (:PAR :N X :V 3.21) (:PAR :N CD_LO)))) ((CE-ZONE :N \"Zone 5\")( (AGGREGATE :N THERMAL-BRIDGES) (:PAR :N WIN-PERIM-LEN)(:PAR :N WIN-PERIM-LEN)(:PAR :N WIN-PERIM-LEN)(:PAR :N WIN-PERIM-LEN)(:PAR :N WIN-PERIM-LEN)(:PAR :N WIN-PERIM-LEN)(:PAR :N WIN-PERIM-LEN)(:PAR :N WIN-PERIM-LEN)(:PAR :N WIN-PERIM-LEN)(:PAR :N WIN-PERIM-LEN)(:PAR :N WIN-PERIM-LEN)(:PAR :N WIN-PERIM-LEN)(:PAR :N WIN-PERIM-LEN)(:PAR :N WIN-PERIM-LEN)(:PAR :N WIN-PERIM-LEN)(:PAR :N WIN-PERIM-LEN)(:PAR :N WIN-PERIM-LEN)(:PAR :N WIN-PERIM-LEN)(:PAR :N WIN-PERIM-LEN)(:PAR :N DOOR-PERIM-LEN))( (ENCLOSING-ELEMENT :N WALL_1)(:ADD (CE-WINDOW :N \"Window\" :T WINDOW)  (:PAR :N X :V 1.25) (:PAR :N Y :V 0.8) (:PAR :N DX :V 1.5) (:PAR :N DY :V 1.2) (:PAR :N LIGHT-LEVEL) (:PAR :N CD_LO)  )) ( (ENCLOSING-ELEMENT :N WALL_2)(:ADD (CE-WINDOW :N \"Window\" :T WINDOW)  (:PAR :N X :V 3.0) (:PAR :N Y :V 0.8) (:PAR :N DX :V 1.5) (:PAR :N DY :V 1.2) (:PAR :N LIGHT-LEVEL) (:PAR :N CD_LO)  )) ( (ENCLOSING-ELEMENT :N WALL_3)(:ADD (CE-WINDOW :N \"Window\" :T WINDOW)  (:PAR :N X :V 5.065) (:PAR :N Y :V 0.8) (:PAR :N DX :V 1.5) (:PAR :N DY :V 1.2) (:PAR :N LIGHT-LEVEL) (:PAR :N CD_LO)  )) ( (ENCLOSING-ELEMENT :N WALL_4)(:ADD (CE-WINDOW :N \"Window\" :T WINDOW)  (:PAR :N X :V 4.385) (:PAR :N Y :V 0.8) (:PAR :N DX :V 1.5) (:PAR :N DY :V 1.2) (:PAR :N LIGHT-LEVEL) (:PAR :N CD_LO)  )) ( (ENCLOSING-ELEMENT :N WALL_5)(:ADD (CE-WINDOW :N \"Window\" :T WINDOW)  (:PAR :N X :V 8.285) (:PAR :N Y :V 0.8) (:PAR :N DX :V 1.5) (:PAR :N DY :V 1.2) (:PAR :N LIGHT-LEVEL) (:PAR :N CD_LO)  )) ( (ENCLOSING-ELEMENT :N WALL_6)(:ADD (CE-WINDOW :N \"Window\" :T WINDOW)  (:PAR :N X :V 9.5435) (:PAR :N Y :V 0.8) (:PAR :N DX :V 1.5) (:PAR :N DY :V 1.2) (:PAR :N LIGHT-LEVEL) (:PAR :N CD_LO)  )) ( (ENCLOSING-ELEMENT :N WALL_7)(:ADD (CE-WINDOW :N \"Window\" :T WINDOW)  (:PAR :N X :V 2.5215) (:PAR :N Y :V 0.8) (:PAR :N DX :V 1.5) (:PAR :N DY :V 1.2) (:PAR :N LIGHT-LEVEL) (:PAR :N CD_LO)  )) ( (ENCLOSING-ELEMENT :N WALL_8)(:ADD (CE-WINDOW :N \"Window\" :T WINDOW)  (:PAR :N X :V 3.6100000000000003) (:PAR :N Y :V 0.8) (:PAR :N DX :V 1.5) (:PAR :N DY :V 1.2) (:PAR :N LIGHT-LEVEL) (:PAR :N CD_LO)  )) ( (ENCLOSING-ELEMENT :N WALL_9)(:ADD (CE-WINDOW :N \"Window\" :T WINDOW)  (:PAR :N X :V 2.5088) (:PAR :N Y :V 0.8) (:PAR :N DX :V 1.5) (:PAR :N DY :V 1.2) (:PAR :N LIGHT-LEVEL) (:PAR :N CD_LO)  )) ( (ENCLOSING-ELEMENT :N WALL_10)(:ADD (CE-WINDOW :N \"Window\" :T WINDOW)  (:PAR :N X :V 1.25) (:PAR :N Y :V 0.8) (:PAR :N DX :V 1.5) (:PAR :N DY :V 1.2) (:PAR :N LIGHT-LEVEL) (:PAR :N CD_LO)  )) ( (ENCLOSING-ELEMENT :N WALL_11)(:ADD (CE-WINDOW :N \"Window\" :T WINDOW)  (:PAR :N X :V 2.49) (:PAR :N Y :V 0.8) (:PAR :N DX :V 1.5) (:PAR :N DY :V 1.2) (:PAR :N LIGHT-LEVEL) (:PAR :N CD_LO)  )) ( (ENCLOSING-ELEMENT :N WALL_13)(:ADD (CE-WINDOW :N \"Window\" :T WINDOW)  (:PAR :N X :V 14.75) (:PAR :N Y :V 0.8) (:PAR :N DX :V 1.5) (:PAR :N DY :V 1.2) (:PAR :N LIGHT-LEVEL) (:PAR :N CD_LO)  )(:ADD (CE-WINDOW :N \"DetWin1\" :T DET-WINDOW)  (:PAR :N X :V 26.015) (:PAR :N Y :V 0.8) (:PAR :N DX :V 3) (:PAR :N DY :V 1.8) (:RES :N GLAZING :V \"Single Clear (WIN7)\") (:PAR :N LIGHT-LEVEL) (:PAR :N CD_LO)  )) ( (ENCLOSING-ELEMENT :N WALL_14)(:ADD (CE-WINDOW :N \"Window\" :T WINDOW)  (:PAR :N X :V 1.25) (:PAR :N Y :V 0.8) (:PAR :N DX :V 1.5) (:PAR :N DY :V 1.2) (:PAR :N LIGHT-LEVEL) (:PAR :N CD_LO)  )) ( (ENCLOSING-ELEMENT :N WALL_15)(:ADD (CE-WINDOW :N \"Window\" :T WINDOW)  (:PAR :N X :V 4.193) (:PAR :N Y :V 0.8) (:PAR :N DX :V 1.5) (:PAR :N DY :V 1.2) (:PAR :N LIGHT-LEVEL) (:PAR :N CD_LO)  )) ( (ENCLOSING-ELEMENT :N WALL_16)(:ADD (CE-WINDOW :N \"Window\" :T WINDOW)  (:PAR :N X :V 3.527) (:PAR :N Y :V 0.8) (:PAR :N DX :V 1.5) (:PAR :N DY :V 1.2) (:PAR :N LIGHT-LEVEL) (:PAR :N CD_LO)  )) ( (ENCLOSING-ELEMENT :N WALL_17)(:ADD (CE-WINDOW :N \"Window\" :T WINDOW)  (:PAR :N X :V 6.1995) (:PAR :N Y :V 0.8) (:PAR :N DX :V 1.5) (:PAR :N DY :V 1.2) (:PAR :N LIGHT-LEVEL) (:PAR :N CD_LO)  )) ( (ENCLOSING-ELEMENT :N WALL_18)(:ADD (CE-WINDOW :N \"Window\" :T WINDOW)  (:PAR :N X :V 4.825) (:PAR :N Y :V 0.8) (:PAR :N DX :V 1.5) (:PAR :N DY :V 1.2) (:PAR :N LIGHT-LEVEL) (:PAR :N CD_LO)  )) ( (ENCLOSING-ELEMENT :N WALL_19)(:ADD (CE-WINDOW :N \"Window\" :T WINDOW)  (:PAR :N X :V 4.24) (:PAR :N Y :V 0.8) (:PAR :N DX :V 1.5) (:PAR :N DY :V 1.2) (:PAR :N LIGHT-LEVEL) (:PAR :N CD_LO)  ))( (ENCLOSING-ELEMENT :N WALL_6)(:ADD (OPENING :N \"Door\" :T OPENING) (:PAR :N X :V 3.21) (:PAR :N CD_LO)))) )\n"
     ]
    },
    {
     "name": "stdout",
     "output_type": "stream",
     "text": [
      "Apply_script message:  <ctypes.c_char_Array_5000 object at 0x1118BE38>\n"
     ]
    }
   ],
   "source": [
    "idm.applyscript(num_floors, wins, doors)"
   ]
  },
  {
   "cell_type": "markdown",
   "metadata": {},
   "source": [
    "You can check the new model in the IDA ICE now. "
   ]
  },
  {
   "cell_type": "markdown",
   "metadata": {},
   "source": [
    "### Step 4: Run simulation\n",
    "\n",
    "It takes a while to run the simulation. You can check the process in IDA ICE. "
   ]
  },
  {
   "cell_type": "code",
   "execution_count": 15,
   "metadata": {},
   "outputs": [
    {
     "name": "stdout",
     "output_type": "stream",
     "text": [
      "---------------\n",
      "Check point before simulation IDLE\n",
      "Simulation begins. \n",
      "Simulation tracking ut1_1_5floor.idm : SIMULATING . Time consumed:  20.809334754943848\n",
      "Simulation tracking ut1_1_5floor.idm : SIMULATING . Time consumed:  41.015286445617676\n",
      "Simulation tracking ut1_1_5floor.idm : SIMULATING . Time consumed:  61.224011182785034\n",
      "Simulation tracking ut1_1_5floor.idm : SIMULATING . Time consumed:  81.4644546508789\n",
      "Simulation tracking ut1_1_5floor.idm : SIMULATING . Time consumed:  101.7041494846344\n",
      "Simulation tracking ut1_1_5floor.idm : SIMULATING . Time consumed:  122.14698314666748\n",
      "Simulation tracking ut1_1_5floor.idm : SIMULATING . Time consumed:  142.75225067138672\n",
      "Simulation tracking ut1_1_5floor.idm : SIMULATING . Time consumed:  163.43998527526855\n",
      "Simulation tracking ut1_1_5floor.idm : SIMULATING . Time consumed:  183.65881729125977\n",
      "======> Simulation complete <======\n",
      "Total time 213.72576355934143\n",
      "Simulation time 191.1966404914856\n",
      "---------------\n"
     ]
    }
   ],
   "source": [
    "# Run Simulation\n",
    "idm.simulation_bld(new_file)"
   ]
  },
  {
   "cell_type": "markdown",
   "metadata": {},
   "source": [
    "### Step 5: Generate html report\n",
    "The function html_report_bld reqires a target folder and a name of the html report."
   ]
  },
  {
   "cell_type": "code",
   "execution_count": 16,
   "metadata": {},
   "outputs": [
    {
     "name": "stdout",
     "output_type": "stream",
     "text": [
      "Generated the html report in  D:\\ide_mine\\changing\\111.html\n"
     ]
    },
    {
     "data": {
      "text/plain": [
       "'D:\\\\ide_mine\\\\changing\\\\111.html'"
      ]
     },
     "execution_count": 16,
     "metadata": {},
     "output_type": "execute_result"
    }
   ],
   "source": [
    "idm.html_report_bld(folder,'111')"
   ]
  },
  {
   "cell_type": "markdown",
   "metadata": {},
   "source": [
    "### Step 6: Save and close"
   ]
  },
  {
   "cell_type": "code",
   "execution_count": 17,
   "metadata": {},
   "outputs": [],
   "source": [
    "idm.save_close()"
   ]
  },
  {
   "cell_type": "code",
   "execution_count": null,
   "metadata": {},
   "outputs": [],
   "source": []
  }
 ],
 "metadata": {
  "kernelspec": {
   "display_name": "Python 3",
   "language": "python",
   "name": "python3"
  },
  "language_info": {
   "codemirror_mode": {
    "name": "ipython",
    "version": 3
   },
   "file_extension": ".py",
   "mimetype": "text/x-python",
   "name": "python",
   "nbconvert_exporter": "python",
   "pygments_lexer": "ipython3",
   "version": "3.8.2"
  },
  "pycharm": {
   "stem_cell": {
    "cell_type": "raw",
    "source": [],
    "metadata": {
     "collapsed": false
    }
   }
  }
 },
 "nbformat": 4,
 "nbformat_minor": 4
}