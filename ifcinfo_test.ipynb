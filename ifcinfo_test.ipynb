{
 "cells": [
  {
   "cell_type": "code",
   "execution_count": 1,
   "metadata": {},
   "outputs": [],
   "source": [
    "from config import ICE"
   ]
  },
  {
   "cell_type": "code",
   "execution_count": 2,
   "metadata": {},
   "outputs": [
    {
     "data": {
      "text/plain": [
       "'D:\\\\idaice\\\\bin\\\\'"
      ]
     },
     "execution_count": 2,
     "metadata": {},
     "output_type": "execute_result"
    }
   ],
   "source": [
    "ICE.setice(\"D:\\\\idaice\\\\bin\\\\\")\n",
    "ICE.ice_path"
   ]
  },
  {
   "cell_type": "code",
   "execution_count": 3,
   "metadata": {},
   "outputs": [],
   "source": [
    "from util import *"
   ]
  },
  {
   "cell_type": "code",
   "execution_count": 4,
   "metadata": {},
   "outputs": [],
   "source": [
    "from basic import *"
   ]
  },
  {
   "cell_type": "code",
   "execution_count": 5,
   "metadata": {},
   "outputs": [],
   "source": [
    "from modeleditor import IDM"
   ]
  },
  {
   "cell_type": "code",
   "execution_count": 8,
   "metadata": {},
   "outputs": [],
   "source": [
    "folder = 'C:\\\\Users\\\\f9511\\\\Downloads\\\\model+results\\\\'\n",
    "base_model = '3.5new_layout_building_from_footprint_checkpoint_final_edit'"
   ]
  },
  {
   "cell_type": "code",
   "execution_count": 9,
   "metadata": {},
   "outputs": [],
   "source": [
    "idm = IDM(folder, base_model)\n",
    "# Building object\n",
    "building = idm.openfile(base_model)"
   ]
  },
  {
   "cell_type": "code",
   "execution_count": 11,
   "metadata": {},
   "outputs": [
    {
     "ename": "JSONDecodeError",
     "evalue": "Expecting value: line 1 column 1 (char 0)",
     "output_type": "error",
     "traceback": [
      "\u001b[1;31m---------------------------------------------------------------------------\u001b[0m",
      "\u001b[1;31mJSONDecodeError\u001b[0m                           Traceback (most recent call last)",
      "\u001b[1;32m<ipython-input-11-53ff5cf5bc50>\u001b[0m in \u001b[0;36m<module>\u001b[1;34m\u001b[0m\n\u001b[1;32m----> 1\u001b[1;33m \u001b[0mchilddict\u001b[0m \u001b[1;33m=\u001b[0m \u001b[0mshowChildrenDict\u001b[0m\u001b[1;33m(\u001b[0m\u001b[0mbuilding\u001b[0m\u001b[1;33m)\u001b[0m\u001b[1;33m\u001b[0m\u001b[1;33m\u001b[0m\u001b[0m\n\u001b[0m\u001b[0;32m      2\u001b[0m \u001b[0mchilddict\u001b[0m\u001b[1;33m\u001b[0m\u001b[1;33m\u001b[0m\u001b[0m\n",
      "\u001b[1;32mD:\\icepy\\basic.py\u001b[0m in \u001b[0;36mshowChildrenDict\u001b[1;34m(parent)\u001b[0m\n\u001b[0;32m     93\u001b[0m \u001b[1;31m# 应该新建dictionary 把东西列出来，避免重复寻找\u001b[0m\u001b[1;33m\u001b[0m\u001b[1;33m\u001b[0m\u001b[1;33m\u001b[0m\u001b[0m\n\u001b[0;32m     94\u001b[0m \u001b[1;32mdef\u001b[0m \u001b[0mshowChildrenDict\u001b[0m\u001b[1;33m(\u001b[0m\u001b[0mparent\u001b[0m\u001b[1;33m)\u001b[0m\u001b[1;33m:\u001b[0m\u001b[1;33m\u001b[0m\u001b[1;33m\u001b[0m\u001b[0m\n\u001b[1;32m---> 95\u001b[1;33m     \u001b[0mchildren\u001b[0m \u001b[1;33m=\u001b[0m \u001b[0mcall_ida_api_function\u001b[0m\u001b[1;33m(\u001b[0m\u001b[0mida_lib\u001b[0m\u001b[1;33m.\u001b[0m\u001b[0mchildNodes\u001b[0m\u001b[1;33m,\u001b[0m \u001b[0mparent\u001b[0m\u001b[1;33m)\u001b[0m\u001b[1;33m\u001b[0m\u001b[1;33m\u001b[0m\u001b[0m\n\u001b[0m\u001b[0;32m     96\u001b[0m     \u001b[0mnameList\u001b[0m \u001b[1;33m=\u001b[0m \u001b[0mdefaultdict\u001b[0m\u001b[1;33m(\u001b[0m\u001b[0mint\u001b[0m\u001b[1;33m)\u001b[0m\u001b[1;33m\u001b[0m\u001b[1;33m\u001b[0m\u001b[0m\n\u001b[0;32m     97\u001b[0m     \u001b[1;32mfor\u001b[0m \u001b[0mchild\u001b[0m \u001b[1;32min\u001b[0m \u001b[0mchildren\u001b[0m\u001b[1;33m:\u001b[0m\u001b[1;33m\u001b[0m\u001b[1;33m\u001b[0m\u001b[0m\n",
      "\u001b[1;32mD:\\icepy\\util.py\u001b[0m in \u001b[0;36mcall_ida_api_function\u001b[1;34m(fun, *args)\u001b[0m\n\u001b[0;32m    145\u001b[0m   \u001b[0mres\u001b[0m \u001b[1;33m=\u001b[0m \u001b[0mfun\u001b[0m\u001b[1;33m(\u001b[0m\u001b[1;33m*\u001b[0m\u001b[0margs\u001b[0m\u001b[1;33m)\u001b[0m\u001b[1;33m\u001b[0m\u001b[1;33m\u001b[0m\u001b[0m\n\u001b[0;32m    146\u001b[0m   \u001b[1;32mif\u001b[0m \u001b[0mres\u001b[0m \u001b[1;33m==\u001b[0m \u001b[1;36m0\u001b[0m\u001b[1;33m:\u001b[0m\u001b[1;33m\u001b[0m\u001b[1;33m\u001b[0m\u001b[0m\n\u001b[1;32m--> 147\u001b[1;33m     \u001b[1;32mreturn\u001b[0m \u001b[0mida_poll_results_queue\u001b[0m\u001b[1;33m(\u001b[0m\u001b[1;36m0.1\u001b[0m\u001b[1;33m)\u001b[0m\u001b[1;33m\u001b[0m\u001b[1;33m\u001b[0m\u001b[0m\n\u001b[0m\u001b[0;32m    148\u001b[0m   \u001b[1;32melif\u001b[0m \u001b[0mres\u001b[0m \u001b[1;33m>\u001b[0m \u001b[1;36m0\u001b[0m \u001b[1;33m:\u001b[0m\u001b[1;33m\u001b[0m\u001b[1;33m\u001b[0m\u001b[0m\n\u001b[0;32m    149\u001b[0m     \u001b[0mp\u001b[0m \u001b[1;33m=\u001b[0m \u001b[0mctypes\u001b[0m\u001b[1;33m.\u001b[0m\u001b[0mcreate_string_buffer\u001b[0m\u001b[1;33m(\u001b[0m\u001b[0mres\u001b[0m\u001b[1;33m)\u001b[0m\u001b[1;33m\u001b[0m\u001b[1;33m\u001b[0m\u001b[0m\n",
      "\u001b[1;32mD:\\icepy\\util.py\u001b[0m in \u001b[0;36mida_poll_results_queue\u001b[1;34m(time_interval)\u001b[0m\n\u001b[0;32m    132\u001b[0m     \u001b[0mtime\u001b[0m\u001b[1;33m.\u001b[0m\u001b[0msleep\u001b[0m\u001b[1;33m(\u001b[0m\u001b[0mtime_interval\u001b[0m\u001b[1;33m)\u001b[0m\u001b[1;33m\u001b[0m\u001b[1;33m\u001b[0m\u001b[0m\n\u001b[0;32m    133\u001b[0m     \u001b[0mpoll_res\u001b[0m \u001b[1;33m=\u001b[0m \u001b[0mida_lib\u001b[0m\u001b[1;33m.\u001b[0m\u001b[0mpollForQueuedResults\u001b[0m\u001b[1;33m(\u001b[0m\u001b[0mdoc_str\u001b[0m\u001b[1;33m,\u001b[0m \u001b[0mlen\u001b[0m\u001b[1;33m(\u001b[0m\u001b[0mdoc_str\u001b[0m\u001b[1;33m)\u001b[0m\u001b[1;33m)\u001b[0m\u001b[1;33m\u001b[0m\u001b[1;33m\u001b[0m\u001b[0m\n\u001b[1;32m--> 134\u001b[1;33m     \u001b[0mpoll_result2\u001b[0m \u001b[1;33m=\u001b[0m \u001b[0mjson\u001b[0m\u001b[1;33m.\u001b[0m\u001b[0mloads\u001b[0m\u001b[1;33m(\u001b[0m\u001b[0mdoc_str\u001b[0m\u001b[1;33m.\u001b[0m\u001b[0mvalue\u001b[0m\u001b[1;33m.\u001b[0m\u001b[0mdecode\u001b[0m\u001b[1;33m(\u001b[0m\u001b[1;34m\"utf-8\"\u001b[0m\u001b[1;33m)\u001b[0m\u001b[1;33m)\u001b[0m\u001b[1;33m\u001b[0m\u001b[1;33m\u001b[0m\u001b[0m\n\u001b[0m\u001b[0;32m    135\u001b[0m     \u001b[1;32mif\u001b[0m \u001b[0misinstance\u001b[0m\u001b[1;33m(\u001b[0m\u001b[0mpoll_result2\u001b[0m\u001b[1;33m,\u001b[0m \u001b[0mlist\u001b[0m\u001b[1;33m)\u001b[0m\u001b[1;33m:\u001b[0m\u001b[1;33m\u001b[0m\u001b[1;33m\u001b[0m\u001b[0m\n\u001b[0;32m    136\u001b[0m       \u001b[0mpoll_result\u001b[0m \u001b[1;33m=\u001b[0m \u001b[0mpoll_result2\u001b[0m\u001b[1;33m[\u001b[0m\u001b[1;36m0\u001b[0m\u001b[1;33m]\u001b[0m\u001b[1;33m[\u001b[0m\u001b[1;34m'value'\u001b[0m\u001b[1;33m]\u001b[0m\u001b[1;33m\u001b[0m\u001b[1;33m\u001b[0m\u001b[0m\n",
      "\u001b[1;32mc:\\users\\f9511\\appdata\\local\\programs\\python\\python38-32\\lib\\json\\__init__.py\u001b[0m in \u001b[0;36mloads\u001b[1;34m(s, cls, object_hook, parse_float, parse_int, parse_constant, object_pairs_hook, **kw)\u001b[0m\n\u001b[0;32m    355\u001b[0m             \u001b[0mparse_int\u001b[0m \u001b[1;32mis\u001b[0m \u001b[1;32mNone\u001b[0m \u001b[1;32mand\u001b[0m \u001b[0mparse_float\u001b[0m \u001b[1;32mis\u001b[0m \u001b[1;32mNone\u001b[0m \u001b[1;32mand\u001b[0m\u001b[1;33m\u001b[0m\u001b[1;33m\u001b[0m\u001b[0m\n\u001b[0;32m    356\u001b[0m             parse_constant is None and object_pairs_hook is None and not kw):\n\u001b[1;32m--> 357\u001b[1;33m         \u001b[1;32mreturn\u001b[0m \u001b[0m_default_decoder\u001b[0m\u001b[1;33m.\u001b[0m\u001b[0mdecode\u001b[0m\u001b[1;33m(\u001b[0m\u001b[0ms\u001b[0m\u001b[1;33m)\u001b[0m\u001b[1;33m\u001b[0m\u001b[1;33m\u001b[0m\u001b[0m\n\u001b[0m\u001b[0;32m    358\u001b[0m     \u001b[1;32mif\u001b[0m \u001b[0mcls\u001b[0m \u001b[1;32mis\u001b[0m \u001b[1;32mNone\u001b[0m\u001b[1;33m:\u001b[0m\u001b[1;33m\u001b[0m\u001b[1;33m\u001b[0m\u001b[0m\n\u001b[0;32m    359\u001b[0m         \u001b[0mcls\u001b[0m \u001b[1;33m=\u001b[0m \u001b[0mJSONDecoder\u001b[0m\u001b[1;33m\u001b[0m\u001b[1;33m\u001b[0m\u001b[0m\n",
      "\u001b[1;32mc:\\users\\f9511\\appdata\\local\\programs\\python\\python38-32\\lib\\json\\decoder.py\u001b[0m in \u001b[0;36mdecode\u001b[1;34m(self, s, _w)\u001b[0m\n\u001b[0;32m    335\u001b[0m \u001b[1;33m\u001b[0m\u001b[0m\n\u001b[0;32m    336\u001b[0m         \"\"\"\n\u001b[1;32m--> 337\u001b[1;33m         \u001b[0mobj\u001b[0m\u001b[1;33m,\u001b[0m \u001b[0mend\u001b[0m \u001b[1;33m=\u001b[0m \u001b[0mself\u001b[0m\u001b[1;33m.\u001b[0m\u001b[0mraw_decode\u001b[0m\u001b[1;33m(\u001b[0m\u001b[0ms\u001b[0m\u001b[1;33m,\u001b[0m \u001b[0midx\u001b[0m\u001b[1;33m=\u001b[0m\u001b[0m_w\u001b[0m\u001b[1;33m(\u001b[0m\u001b[0ms\u001b[0m\u001b[1;33m,\u001b[0m \u001b[1;36m0\u001b[0m\u001b[1;33m)\u001b[0m\u001b[1;33m.\u001b[0m\u001b[0mend\u001b[0m\u001b[1;33m(\u001b[0m\u001b[1;33m)\u001b[0m\u001b[1;33m)\u001b[0m\u001b[1;33m\u001b[0m\u001b[1;33m\u001b[0m\u001b[0m\n\u001b[0m\u001b[0;32m    338\u001b[0m         \u001b[0mend\u001b[0m \u001b[1;33m=\u001b[0m \u001b[0m_w\u001b[0m\u001b[1;33m(\u001b[0m\u001b[0ms\u001b[0m\u001b[1;33m,\u001b[0m \u001b[0mend\u001b[0m\u001b[1;33m)\u001b[0m\u001b[1;33m.\u001b[0m\u001b[0mend\u001b[0m\u001b[1;33m(\u001b[0m\u001b[1;33m)\u001b[0m\u001b[1;33m\u001b[0m\u001b[1;33m\u001b[0m\u001b[0m\n\u001b[0;32m    339\u001b[0m         \u001b[1;32mif\u001b[0m \u001b[0mend\u001b[0m \u001b[1;33m!=\u001b[0m \u001b[0mlen\u001b[0m\u001b[1;33m(\u001b[0m\u001b[0ms\u001b[0m\u001b[1;33m)\u001b[0m\u001b[1;33m:\u001b[0m\u001b[1;33m\u001b[0m\u001b[1;33m\u001b[0m\u001b[0m\n",
      "\u001b[1;32mc:\\users\\f9511\\appdata\\local\\programs\\python\\python38-32\\lib\\json\\decoder.py\u001b[0m in \u001b[0;36mraw_decode\u001b[1;34m(self, s, idx)\u001b[0m\n\u001b[0;32m    353\u001b[0m             \u001b[0mobj\u001b[0m\u001b[1;33m,\u001b[0m \u001b[0mend\u001b[0m \u001b[1;33m=\u001b[0m \u001b[0mself\u001b[0m\u001b[1;33m.\u001b[0m\u001b[0mscan_once\u001b[0m\u001b[1;33m(\u001b[0m\u001b[0ms\u001b[0m\u001b[1;33m,\u001b[0m \u001b[0midx\u001b[0m\u001b[1;33m)\u001b[0m\u001b[1;33m\u001b[0m\u001b[1;33m\u001b[0m\u001b[0m\n\u001b[0;32m    354\u001b[0m         \u001b[1;32mexcept\u001b[0m \u001b[0mStopIteration\u001b[0m \u001b[1;32mas\u001b[0m \u001b[0merr\u001b[0m\u001b[1;33m:\u001b[0m\u001b[1;33m\u001b[0m\u001b[1;33m\u001b[0m\u001b[0m\n\u001b[1;32m--> 355\u001b[1;33m             \u001b[1;32mraise\u001b[0m \u001b[0mJSONDecodeError\u001b[0m\u001b[1;33m(\u001b[0m\u001b[1;34m\"Expecting value\"\u001b[0m\u001b[1;33m,\u001b[0m \u001b[0ms\u001b[0m\u001b[1;33m,\u001b[0m \u001b[0merr\u001b[0m\u001b[1;33m.\u001b[0m\u001b[0mvalue\u001b[0m\u001b[1;33m)\u001b[0m \u001b[1;32mfrom\u001b[0m \u001b[1;32mNone\u001b[0m\u001b[1;33m\u001b[0m\u001b[1;33m\u001b[0m\u001b[0m\n\u001b[0m\u001b[0;32m    356\u001b[0m         \u001b[1;32mreturn\u001b[0m \u001b[0mobj\u001b[0m\u001b[1;33m,\u001b[0m \u001b[0mend\u001b[0m\u001b[1;33m\u001b[0m\u001b[1;33m\u001b[0m\u001b[0m\n",
      "\u001b[1;31mJSONDecodeError\u001b[0m: Expecting value: line 1 column 1 (char 0)"
     ]
    }
   ],
   "source": [
    "childdict = showChildrenDict(building)\n",
    "childdict"
   ]
  },
  {
   "cell_type": "code",
   "execution_count": 9,
   "metadata": {},
   "outputs": [
    {
     "data": {
      "text/plain": [
       "defaultdict(int, {3: 'MAPPING', 4: 'MinnebergComplex'})"
      ]
     },
     "execution_count": 9,
     "metadata": {},
     "output_type": "execute_result"
    }
   ],
   "source": [
    "zone1 = showChildrenDict(cad)\n",
    "cad_child"
   ]
  },
  {
   "cell_type": "code",
   "execution_count": 12,
   "metadata": {},
   "outputs": [
    {
     "data": {
      "text/plain": [
       "183"
      ]
     },
     "execution_count": 12,
     "metadata": {},
     "output_type": "execute_result"
    }
   ],
   "source": [
    "zone1 = ida_get_named_child(building, 'Floor 1 middle corridor')\n",
    "zone1"
   ]
  },
  {
   "cell_type": "code",
   "execution_count": 18,
   "metadata": {},
   "outputs": [
    {
     "data": {
      "text/plain": [
       "False"
      ]
     },
     "execution_count": 18,
     "metadata": {},
     "output_type": "execute_result"
    }
   ],
   "source": [
    "minnebergComplex"
   ]
  },
  {
   "cell_type": "code",
   "execution_count": 14,
   "metadata": {},
   "outputs": [
    {
     "data": {
      "text/plain": [
       "'Could not find object in IDA.'"
      ]
     },
     "execution_count": 14,
     "metadata": {},
     "output_type": "execute_result"
    }
   ],
   "source": [
    "minne_child = ida_get_named_child(minnebergComplex, 'SECTION')\n",
    "minne_child"
   ]
  },
  {
   "cell_type": "code",
   "execution_count": 16,
   "metadata": {},
   "outputs": [
    {
     "data": {
      "text/plain": [
       "False"
      ]
     },
     "execution_count": 16,
     "metadata": {},
     "output_type": "execute_result"
    }
   ],
   "source": [
    "buildbody = ida_get_named_child(building, 'Building body')\n",
    "buildbody"
   ]
  },
  {
   "cell_type": "code",
   "execution_count": 15,
   "metadata": {},
   "outputs": [
    {
     "data": {
      "text/plain": [
       "[{'type': 'object', 'value': 139},\n",
       " {'type': 'object', 'value': 140},\n",
       " {'type': 'object', 'value': 141},\n",
       " {'type': 'object', 'value': 142},\n",
       " {'type': 'object', 'value': 143},\n",
       " {'type': 'object', 'value': 144},\n",
       " {'type': 'object', 'value': 145},\n",
       " {'type': 'object', 'value': 146},\n",
       " {'type': 'object', 'value': 147},\n",
       " {'type': 'object', 'value': 148},\n",
       " {'type': 'object', 'value': 149},\n",
       " {'type': 'object', 'value': 150},\n",
       " {'type': 'object', 'value': 151},\n",
       " {'type': 'object', 'value': 152},\n",
       " {'type': 'object', 'value': 153},\n",
       " {'type': 'object', 'value': 154},\n",
       " {'type': 'object', 'value': 155},\n",
       " {'type': 'object', 'value': 156},\n",
       " {'type': 'object', 'value': 157},\n",
       " {'type': 'object', 'value': 158},\n",
       " {'type': 'object', 'value': 159},\n",
       " {'type': 'object', 'value': 160},\n",
       " {'type': 'object', 'value': 161},\n",
       " {'type': 'object', 'value': 162},\n",
       " {'type': 'object', 'value': 163},\n",
       " {'type': 'object', 'value': 164},\n",
       " {'type': 'object', 'value': 165},\n",
       " {'type': 'object', 'value': 166},\n",
       " {'type': 'object', 'value': 167},\n",
       " {'type': 'object', 'value': 168},\n",
       " {'type': 'object', 'value': 169},\n",
       " {'type': 'object', 'value': 170},\n",
       " {'type': 'object', 'value': 171},\n",
       " {'type': 'object', 'value': 172},\n",
       " {'type': 'object', 'value': 173},\n",
       " {'type': 'object', 'value': 174},\n",
       " {'type': 'object', 'value': 175},\n",
       " {'type': 'object', 'value': 176},\n",
       " {'type': 'object', 'value': 177},\n",
       " {'type': 'object', 'value': 178},\n",
       " {'type': 'object', 'value': 179},\n",
       " {'type': 'object', 'value': 180},\n",
       " {'type': 'object', 'value': 181},\n",
       " {'type': 'object', 'value': 182},\n",
       " {'type': 'object', 'value': 183},\n",
       " {'type': 'object', 'value': 184},\n",
       " {'type': 'object', 'value': 185},\n",
       " {'type': 'object', 'value': 186},\n",
       " {'type': 'object', 'value': 187},\n",
       " {'type': 'object', 'value': 188},\n",
       " {'type': 'object', 'value': 189},\n",
       " {'type': 'object', 'value': 190},\n",
       " {'type': 'object', 'value': 191},\n",
       " {'type': 'object', 'value': 192},\n",
       " {'type': 'object', 'value': 193},\n",
       " {'type': 'object', 'value': 194},\n",
       " {'type': 'object', 'value': 195},\n",
       " {'type': 'object', 'value': 196},\n",
       " {'type': 'object', 'value': 197},\n",
       " {'type': 'object', 'value': 198},\n",
       " {'type': 'object', 'value': 199},\n",
       " {'type': 'object', 'value': 200},\n",
       " {'type': 'object', 'value': 201},\n",
       " {'type': 'object', 'value': 202},\n",
       " {'type': 'object', 'value': 203},\n",
       " {'type': 'object', 'value': 204},\n",
       " {'type': 'object', 'value': 205},\n",
       " {'type': 'object', 'value': 206},\n",
       " {'type': 'object', 'value': 207},\n",
       " {'type': 'object', 'value': 208},\n",
       " {'type': 'object', 'value': 209},\n",
       " {'type': 'object', 'value': 210},\n",
       " {'type': 'object', 'value': 211},\n",
       " {'type': 'object', 'value': 212}]"
      ]
     },
     "execution_count": 15,
     "metadata": {},
     "output_type": "execute_result"
    }
   ],
   "source": [
    "zones = call_ida_api_function(ida_lib.getZones, building)\n",
    "zones"
   ]
  },
  {
   "cell_type": "code",
   "execution_count": 17,
   "metadata": {},
   "outputs": [],
   "source": [
    "zone11 = zones[0]['value']"
   ]
  },
  {
   "cell_type": "code",
   "execution_count": 18,
   "metadata": {},
   "outputs": [
    {
     "data": {
      "text/plain": [
       "defaultdict(int,\n",
       "            {226: 'LOCAL_SETPOINTS',\n",
       "             227: 'MODEL_TYPE',\n",
       "             228: 'INFO',\n",
       "             229: 'GROUP',\n",
       "             230: 'MULTIPLICITY',\n",
       "             231: 'IN_USE',\n",
       "             232: 'STORED-LOG',\n",
       "             233: 'THERMAL-BRIDGES',\n",
       "             234: 'THERMAL_BRIDGE_COEFF',\n",
       "             235: 'GEOMETRY',\n",
       "             236: 'CENTRAL-AHU',\n",
       "             237: 'AIR',\n",
       "             238: 'CONTROLLER',\n",
       "             239: 'SETPOINTS',\n",
       "             240: 'DHW',\n",
       "             241: 'CALC-DAYLIGHT',\n",
       "             242: 'FLOOR',\n",
       "             243: 'CEILING',\n",
       "             244: 'WALL_1',\n",
       "             245: 'WALL_2',\n",
       "             246: 'WALL_3',\n",
       "             247: 'WALL_4',\n",
       "             248: 'WALL_5',\n",
       "             249: 'WALL_6',\n",
       "             250: 'WALL_7',\n",
       "             251: 'WALL_8',\n",
       "             252: 'Occupant 1',\n",
       "             253: 'Equipment 1',\n",
       "             254: 'Light',\n",
       "             255: 'Furniture',\n",
       "             256: 'WatRad',\n",
       "             257: 'TEMPERATURES',\n",
       "             258: 'HEAT_BALANCE',\n",
       "             259: 'FLOW_DIAG',\n",
       "             260: 'COMFORT_INDICES',\n",
       "             261: 'IAQ',\n",
       "             262: 'ZONE-ENERGY-REPORT',\n",
       "             263: 'ZONE-ENERGY',\n",
       "             264: 'OPNFLOW',\n",
       "             265: 'OPNTEMP',\n",
       "             266: 'ZONE-SUMMARY'})"
      ]
     },
     "execution_count": 18,
     "metadata": {},
     "output_type": "execute_result"
    }
   ],
   "source": [
    "showChildrenDict(zone11)"
   ]
  },
  {
   "cell_type": "code",
   "execution_count": 19,
   "metadata": {},
   "outputs": [],
   "source": [
    "walls11 = call_ida_api_function(ida_lib.getChildrenOfType,zone11,b\"WALL\")"
   ]
  },
  {
   "cell_type": "code",
   "execution_count": 21,
   "metadata": {},
   "outputs": [
    {
     "data": {
      "text/plain": [
       "defaultdict(int,\n",
       "            {267: 'GEOMETRY',\n",
       "             268: 'FACE',\n",
       "             269: 'IF_NOT_CONNECTED',\n",
       "             270: 'IGNORE_ADJACENT_FACE',\n",
       "             271: 'CONSTRUCTION_INTERNAL',\n",
       "             272: 'CONSTRUCTION_INTERNAL_FLIPPED',\n",
       "             273: 'CONSTRUCTION_EXTERNAL',\n",
       "             274: 'CONSTRUCTION_GROUND',\n",
       "             275: 'INTERNAL_SURFACE',\n",
       "             276: 'EXTERNAL_SURFACE',\n",
       "             277: 'OTHER-SIDE_TEMPERATURE',\n",
       "             278: 'TEMP_OFFSET',\n",
       "             279: 'Windowmany',\n",
       "             280: 'Window'})"
      ]
     },
     "execution_count": 21,
     "metadata": {},
     "output_type": "execute_result"
    }
   ],
   "source": [
    "showChildrenDict(walls11[0]['value'])"
   ]
  },
  {
   "cell_type": "code",
   "execution_count": 23,
   "metadata": {},
   "outputs": [
    {
     "data": {
      "text/plain": [
       "267"
      ]
     },
     "execution_count": 23,
     "metadata": {},
     "output_type": "execute_result"
    }
   ],
   "source": [
    "wall0 = walls11[0]['value']\n",
    "geo_wall0 = ida_get_named_child(wall0, 'GEOMETRY')\n",
    "geo_wall0"
   ]
  },
  {
   "cell_type": "code",
   "execution_count": 24,
   "metadata": {},
   "outputs": [
    {
     "data": {
      "text/plain": [
       "defaultdict(int, {281: 'CORNERS', 282: 'CONTOURS', 283: 'SLOPE'})"
      ]
     },
     "execution_count": 24,
     "metadata": {},
     "output_type": "execute_result"
    }
   ],
   "source": [
    "showChildrenDict(geo_wall0)"
   ]
  },
  {
   "cell_type": "code",
   "execution_count": null,
   "metadata": {},
   "outputs": [],
   "source": []
  }
 ],
 "metadata": {
  "kernelspec": {
   "display_name": "Python 3",
   "language": "python",
   "name": "python3"
  },
  "language_info": {
   "codemirror_mode": {
    "name": "ipython",
    "version": 3
   },
   "file_extension": ".py",
   "mimetype": "text/x-python",
   "name": "python",
   "nbconvert_exporter": "python",
   "pygments_lexer": "ipython3",
   "version": "3.8.2"
  }
 },
 "nbformat": 4,
 "nbformat_minor": 4
}
